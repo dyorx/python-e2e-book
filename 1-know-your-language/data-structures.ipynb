{
 "cells": [
  {
   "cell_type": "markdown",
   "metadata": {},
   "source": [
    "# Data Structures\n",
    "* Provides structure which can hold data together.\n",
    "* Used to store a collection of related data.\n",
    "\n",
    "## Lists\n",
    "* Holds ordered collection of items.\n",
    "* Should be enclosed in square brackets i.e. `[]`\n",
    "* We can add, remove or even search items in a lists, implying Lists are mutable data types.\n",
    "\n",
    "### List Methods:\n",
    "`list.append(x)`\n",
    "Add an item to the end of the list. Equivalent to a[len(a):] = [x].\n",
    "\n",
    "`list.extend(iterable)`\n",
    "Extend the list by appending all the items from the iterable. Equivalent to a[len(a):] = iterable.\n",
    "\n",
    "`list.insert(i, x)`\n",
    "Insert an item at a given position. The first argument is the index of the element before which to insert, so a.insert(0, x) inserts at the front of the list, and a.insert(len(a), x) is equivalent to a.append(x).\n",
    "\n",
    "`list.remove(x)`\n",
    "Remove the first item from the list whose value is equal to x. It raises a ValueError if there is no such item.\n",
    "\n",
    "`list.pop([i])`\n",
    "Remove the item at the given position in the list, and return it. If no index is specified, a.pop() removes and returns the last item in the list. (The square brackets around the i in the method signature denote that the parameter is optional, not that you should type square brackets at that position. You will see this notation frequently in the Python Library Reference.)\n",
    "\n",
    "`list.clear()`\n",
    "Remove all items from the list. Equivalent to del a[:].\n",
    "\n",
    "`list.index(x[, start[, end]])`\n",
    "Return zero-based index in the list of the first item whose value is equal to x. Raises a ValueError if there is no such item.\n",
    "The optional arguments start and end are interpreted as in the slice notation and are used to limit the search to a particular subsequence of the list. The returned index is computed relative to the beginning of the full sequence rather than the start argument.\n",
    "\n",
    "`list.count(x)`\n",
    "Return the number of times x appears in the list.\n",
    "\n",
    "`list.sort(key=None, reverse=False)`\n",
    "Sort the items of the list in place (the arguments can be used for sort customization, see sorted() for their explanation).\n",
    "\n",
    "`list.reverse()`\n",
    "Reverse the elements of the list in place.\n",
    "\n",
    "`list.copy()`\n",
    "Return a shallow copy of the list. Equivalent to a[:]."
   ]
  },
  {
   "cell_type": "markdown",
   "metadata": {},
   "source": [
    "An example that uses most of the `list` methods:"
   ]
  },
  {
   "cell_type": "code",
   "execution_count": null,
   "metadata": {},
   "outputs": [],
   "source": [
    "fruits = ['orange', 'apple', 'pear', 'banana', 'kiwi', 'apple', 'banana']\n",
    "fruits.count('apple')"
   ]
  },
  {
   "cell_type": "code",
   "execution_count": null,
   "metadata": {},
   "outputs": [],
   "source": [
    "fruits.count('tangerine')"
   ]
  },
  {
   "cell_type": "code",
   "execution_count": null,
   "metadata": {},
   "outputs": [],
   "source": [
    "fruits.index('banana')"
   ]
  },
  {
   "cell_type": "code",
   "execution_count": null,
   "metadata": {},
   "outputs": [],
   "source": [
    "fruits.index('banana', 4)"
   ]
  },
  {
   "cell_type": "code",
   "execution_count": null,
   "metadata": {},
   "outputs": [],
   "source": [
    "fruits.reverse()\n",
    "fruits"
   ]
  },
  {
   "cell_type": "code",
   "execution_count": null,
   "metadata": {},
   "outputs": [],
   "source": [
    "fruits.append('grape')\n",
    "fruits"
   ]
  },
  {
   "cell_type": "code",
   "execution_count": null,
   "metadata": {},
   "outputs": [],
   "source": [
    "fruits.sort()\n",
    "fruits"
   ]
  },
  {
   "cell_type": "code",
   "execution_count": null,
   "metadata": {},
   "outputs": [],
   "source": [
    "fruits.pop()"
   ]
  },
  {
   "cell_type": "markdown",
   "metadata": {},
   "source": [
    "## List as a Stack\n",
    "The list methods make it very easy to use a list as a stack, where the last element added is the first element retrieved (“last-in, first-out”). To add an item to the top of the stack, use `append()`. To retrieve an item from the top of the stack, use `pop()`"
   ]
  },
  {
   "cell_type": "code",
   "execution_count": null,
   "metadata": {},
   "outputs": [],
   "source": [
    "stack = [3, 4, 5]\n",
    "stack.append(6)"
   ]
  },
  {
   "cell_type": "code",
   "execution_count": null,
   "metadata": {},
   "outputs": [],
   "source": [
    "stack"
   ]
  },
  {
   "cell_type": "code",
   "execution_count": null,
   "metadata": {},
   "outputs": [],
   "source": [
    "stack.append(7)\n",
    "stack"
   ]
  },
  {
   "cell_type": "code",
   "execution_count": null,
   "metadata": {},
   "outputs": [],
   "source": [
    "stack.pop()"
   ]
  },
  {
   "cell_type": "code",
   "execution_count": null,
   "metadata": {},
   "outputs": [],
   "source": [
    "stack"
   ]
  },
  {
   "cell_type": "code",
   "execution_count": null,
   "metadata": {},
   "outputs": [],
   "source": [
    "stack.pop()"
   ]
  },
  {
   "cell_type": "code",
   "execution_count": null,
   "metadata": {},
   "outputs": [],
   "source": [
    "stack"
   ]
  },
  {
   "cell_type": "markdown",
   "metadata": {},
   "source": [
    "## List as Queue\n",
    "It is also possible to use a list as a queue, where the first element added is the first element retrieved (“first-in, first-out”); however, lists are not efficient for this purpose.\n",
    "\n",
    "To implement a queue, use collections.deque which was designed to have fast appends and pops from both ends. For example:"
   ]
  },
  {
   "cell_type": "code",
   "execution_count": null,
   "metadata": {},
   "outputs": [],
   "source": [
    "from collections import deque\n",
    "queue = deque([\"Eric\", \"John\", \"Michael\"])\n",
    "queue.append(\"Terry\")           # Terry arrives\n",
    "queue.append(\"Graham\")          # Graham arrives\n",
    "queue.popleft()                 # The first to arrive now leaves"
   ]
  },
  {
   "cell_type": "code",
   "execution_count": null,
   "metadata": {},
   "outputs": [],
   "source": [
    "queue.popleft()                 # The second to arrive now leaves"
   ]
  },
  {
   "cell_type": "code",
   "execution_count": null,
   "metadata": {},
   "outputs": [],
   "source": [
    "queue                           # Remaining queue in order of arrival"
   ]
  },
  {
   "cell_type": "markdown",
   "metadata": {},
   "source": [
    "## List Comprehensions\n",
    "List comprehensions provide a concise way to create lists. Common applications are to make new lists where each element is the result of some operations applied to each member of another sequence or iterable, or to create a subsequence of those elements that satisfy a certain condition."
   ]
  },
  {
   "cell_type": "markdown",
   "metadata": {},
   "source": [
    "### Problem: Create list of squares\n",
    "\n",
    "Traditional approach:"
   ]
  },
  {
   "cell_type": "code",
   "execution_count": null,
   "metadata": {},
   "outputs": [],
   "source": [
    "squares = []\n",
    "for x in range(10):\n",
    "    squares.append(x**2)\n",
    "\n",
    "squares"
   ]
  },
  {
   "cell_type": "code",
   "execution_count": null,
   "metadata": {},
   "outputs": [],
   "source": [
    "squares = [x**2 for x in range(10)] # More concise and readable right?\n",
    "squares"
   ]
  },
  {
   "cell_type": "markdown",
   "metadata": {},
   "source": [
    "### Few more examples:"
   ]
  },
  {
   "cell_type": "code",
   "execution_count": null,
   "metadata": {},
   "outputs": [],
   "source": [
    "[python for python in 'python']"
   ]
  },
  {
   "cell_type": "code",
   "execution_count": null,
   "metadata": {},
   "outputs": [],
   "source": [
    "[number for number in range(10)]"
   ]
  },
  {
   "cell_type": "code",
   "execution_count": null,
   "metadata": {},
   "outputs": [],
   "source": [
    "[number for number in range(10) if number % 2 == 0]"
   ]
  },
  {
   "cell_type": "code",
   "execution_count": null,
   "metadata": {},
   "outputs": [],
   "source": [
    "[number for number in range(100) if number % 2 == 0 if number % 5 == 0]"
   ]
  },
  {
   "cell_type": "code",
   "execution_count": null,
   "metadata": {},
   "outputs": [],
   "source": [
    "['Even' if number%2==0 else \"Odd\" for number in range(10)]"
   ]
  },
  {
   "cell_type": "code",
   "execution_count": null,
   "metadata": {},
   "outputs": [],
   "source": [
    "vec = [-4, -2, 0, 2, 4]\n",
    "# create a new list with the values doubled\n",
    "[x*2 for x in vec]"
   ]
  },
  {
   "cell_type": "code",
   "execution_count": null,
   "metadata": {},
   "outputs": [],
   "source": [
    "# filter the list to exclude negative numbers\n",
    "vec = [-4, -2, 0, 2, 4]\n",
    "[x for x in vec if x >= 0]"
   ]
  },
  {
   "cell_type": "code",
   "execution_count": null,
   "metadata": {},
   "outputs": [],
   "source": [
    "# apply a function to all the elements\n",
    "vec = [-4, -2, 0, 2, 4]\n",
    "[abs(x) for x in vec]"
   ]
  },
  {
   "cell_type": "markdown",
   "metadata": {},
   "source": [
    "## `del`"
   ]
  },
  {
   "cell_type": "code",
   "execution_count": null,
   "metadata": {},
   "outputs": [],
   "source": [
    "a = [-1, 1, 66.25, 333, 333, 1234.5]\n",
    "del a[0]\n",
    "a"
   ]
  },
  {
   "cell_type": "code",
   "execution_count": null,
   "metadata": {},
   "outputs": [],
   "source": [
    "del a[2:4]\n",
    "a"
   ]
  },
  {
   "cell_type": "code",
   "execution_count": null,
   "metadata": {},
   "outputs": [],
   "source": [
    "del a[:]\n",
    "a"
   ]
  },
  {
   "cell_type": "code",
   "execution_count": null,
   "metadata": {},
   "outputs": [],
   "source": [
    "del a # del can also be used to delete entire variables\n",
    "a"
   ]
  },
  {
   "cell_type": "markdown",
   "metadata": {},
   "source": [
    "## Tuples\n",
    "Tuples are like lists except they are immutable like strings. They are useful when a statement or a function can safely assume that collection of values will not change."
   ]
  },
  {
   "cell_type": "code",
   "execution_count": null,
   "metadata": {},
   "outputs": [],
   "source": [
    "t = 12345, 54321, 'hello!'\n",
    "t[0]"
   ]
  },
  {
   "cell_type": "code",
   "execution_count": null,
   "metadata": {},
   "outputs": [],
   "source": [
    "# Tuples may be nested:\n",
    "u = t, (1, 2, 3, 4, 5)\n",
    "u"
   ]
  },
  {
   "cell_type": "code",
   "execution_count": null,
   "metadata": {},
   "outputs": [],
   "source": [
    "# Tuples are immutable:\n",
    "t[0] = 88888"
   ]
  },
  {
   "cell_type": "code",
   "execution_count": null,
   "metadata": {},
   "outputs": [],
   "source": [
    "# but they can contain mutable objects:\n",
    "v = ([1, 2, 3], [3, 2, 1])\n",
    "v"
   ]
  },
  {
   "cell_type": "code",
   "execution_count": null,
   "metadata": {},
   "outputs": [],
   "source": [
    "v[0][0] = 'Changed'\n",
    "v"
   ]
  },
  {
   "cell_type": "markdown",
   "metadata": {},
   "source": [
    "### Sequence Unpacking\n",
    "Reverse operation of tuple packing"
   ]
  },
  {
   "cell_type": "code",
   "execution_count": null,
   "metadata": {},
   "outputs": [],
   "source": [
    "t = 12345, 54321, 'hello!' # Tuple packing\n",
    "a, b, c = t # Sequence unpacking\n",
    "print(a,b,c)\n",
    "\n",
    "# Requres as many variables on left as ther are on right element."
   ]
  },
  {
   "cell_type": "markdown",
   "metadata": {},
   "source": [
    "## Sets\n",
    "* Unordered collection with no duplicate elements.\n",
    "* Supports mathematical operations like union, interaction, difference.\n",
    "\n",
    "You can create sets using `{}` or `set()` function"
   ]
  },
  {
   "cell_type": "code",
   "execution_count": null,
   "metadata": {},
   "outputs": [],
   "source": [
    "shopping_basket = {'apple', 'orange', 'pineapple', 'apple', 'pear'}\n",
    "shopping_basket"
   ]
  },
  {
   "cell_type": "code",
   "execution_count": null,
   "metadata": {},
   "outputs": [],
   "source": [
    "shopping_basket = set()\n",
    "type(shopping_basket)"
   ]
  },
  {
   "cell_type": "code",
   "execution_count": null,
   "metadata": {},
   "outputs": [],
   "source": [
    "shopping_basket = {}\n",
    "type(shopping_basket)"
   ]
  },
  {
   "cell_type": "code",
   "execution_count": null,
   "metadata": {},
   "outputs": [],
   "source": [
    "shopping_basket = {'apple', 'orange', 'pineapple', 'apple', 'pear'}\n",
    "'apple' in shopping_basket"
   ]
  },
  {
   "cell_type": "code",
   "execution_count": null,
   "metadata": {},
   "outputs": [],
   "source": [
    "'strawberry' in shopping_basket"
   ]
  },
  {
   "cell_type": "code",
   "execution_count": null,
   "metadata": {},
   "outputs": [],
   "source": [
    "a = set('abracadabra')\n",
    "b = set('alacazam')\n",
    "a # unique letters in a"
   ]
  },
  {
   "cell_type": "code",
   "execution_count": null,
   "metadata": {},
   "outputs": [],
   "source": [
    "b # unique letters in b"
   ]
  },
  {
   "cell_type": "code",
   "execution_count": null,
   "metadata": {},
   "outputs": [],
   "source": [
    "a - b # letters in a but not in b"
   ]
  },
  {
   "cell_type": "code",
   "execution_count": null,
   "metadata": {},
   "outputs": [],
   "source": [
    "a | b # letters in a or b or both"
   ]
  },
  {
   "cell_type": "code",
   "execution_count": null,
   "metadata": {},
   "outputs": [],
   "source": [
    "a & b # letters in both a and b"
   ]
  },
  {
   "cell_type": "code",
   "execution_count": null,
   "metadata": {},
   "outputs": [],
   "source": [
    "a ^ b # letters in a or b but not bot"
   ]
  },
  {
   "cell_type": "markdown",
   "metadata": {},
   "source": [
    "### Set comprehensions"
   ]
  },
  {
   "cell_type": "code",
   "execution_count": null,
   "metadata": {},
   "outputs": [],
   "source": [
    "a = {x for x in 'abracadabra' if x not in 'abc'}\n",
    "a"
   ]
  },
  {
   "cell_type": "markdown",
   "metadata": {},
   "source": [
    "## Dictionary\n",
    "A dictionary is data strucuture similar to contacts. You can find an address or contact of a person by his/her/its name.\n",
    "In dictionary, we associate name (i.e keys) with details (i.e values)\n",
    "Dictionary are indexed by keys, which can be any immutable types (string or numbers) and must be unique."
   ]
  },
  {
   "cell_type": "code",
   "execution_count": null,
   "metadata": {},
   "outputs": [],
   "source": [
    "contact = {\n",
    "    'Ram Kasula': 9840298755,\n",
    "    'Anu Pau': 98651201503,\n",
    "    'Kade Hade': 9863331239,\n",
    "    'Ram Kasula': 98402985,\n",
    "}\n",
    "\n",
    "contact"
   ]
  },
  {
   "cell_type": "code",
   "execution_count": null,
   "metadata": {},
   "outputs": [],
   "source": [
    "del contact['Kade Hade']\n",
    "contact"
   ]
  },
  {
   "cell_type": "code",
   "execution_count": null,
   "metadata": {},
   "outputs": [],
   "source": [
    "contact['Santa Behen'] = 9845022233\n",
    "contact"
   ]
  },
  {
   "cell_type": "code",
   "execution_count": null,
   "metadata": {},
   "outputs": [],
   "source": [
    "list(contact)"
   ]
  },
  {
   "cell_type": "code",
   "execution_count": null,
   "metadata": {},
   "outputs": [],
   "source": [
    "sorted(contact)"
   ]
  },
  {
   "cell_type": "code",
   "execution_count": null,
   "metadata": {},
   "outputs": [],
   "source": [
    "'Santa Behen' in contact"
   ]
  },
  {
   "cell_type": "code",
   "execution_count": null,
   "metadata": {},
   "outputs": [],
   "source": [
    "'Kade Hade' in contact"
   ]
  },
  {
   "cell_type": "code",
   "execution_count": null,
   "metadata": {
    "scrolled": true
   },
   "outputs": [],
   "source": [
    "dict([('A',1), ('B',2)])"
   ]
  },
  {
   "cell_type": "markdown",
   "metadata": {},
   "source": [
    "### Dictionary Comprehensions"
   ]
  },
  {
   "cell_type": "code",
   "execution_count": null,
   "metadata": {},
   "outputs": [],
   "source": [
    "{number: number**2 for number in (1, 2, 3)}"
   ]
  },
  {
   "cell_type": "markdown",
   "metadata": {},
   "source": [
    "### RealWorld Example"
   ]
  },
  {
   "cell_type": "code",
   "execution_count": null,
   "metadata": {
    "scrolled": true
   },
   "outputs": [],
   "source": [
    "expenses = {\n",
    "    'Eliza': {\n",
    "        'Dahi': 280,\n",
    "        'PaniPuri': 120,\n",
    "        'Bara': 160,\n",
    "        'Kulfi': 200,\n",
    "        'Pau': 50,\n",
    "    },\n",
    "    'Binay': {\n",
    "        'Water': 30,\n",
    "    },\n",
    "    'Kshitiz': {\n",
    "        'Chocolate': 90,\n",
    "    },\n",
    "    'Sajal': {\n",
    "        \n",
    "    },\n",
    "}\n",
    "\n",
    "individual_expense = {person: sum(expenses[person].values()) for person in expenses.keys()}\n",
    "print(individual_expense.values())\n",
    "total_expense = sum(individual_expense.values())\n",
    "\n",
    "print('Individual Expense', individual_expense)\n",
    "print('Total Expense', total_expense)\n",
    "\n",
    "for person, expense in individual_expense.items():\n",
    "    print('Expense for %s is %d' % (person, ((total_expense/len(expenses)) - individual_expense[person])))"
   ]
  },
  {
   "cell_type": "markdown",
   "metadata": {},
   "source": [
    "# Practice:\n",
    "* Sum all the items in the list `[1, 2, 3, 4, 5, 6, 7]` without built-in methods.\n",
    "* Remove odd number from `[1, 2, 3, 4, 5, 6, 7]` list\n",
    "* Find the index of `4` in list `[1, 2, 3, 4, 5, 6, 7]`\n",
    "* Find the longest item in the list `['orange', 'apple', 'pear', 'banana', 'kiwi', 'apple', 'banana']`\n",
    "* Concatinate `'A '` to all the items in the list `['orange', 'apple', 'pear', 'banana', 'kiwi', 'apple', 'banana']`\n",
    "* Check if list is empty\n",
    "* Insert `7` to second last element of  `[1, 2, 3, 4, 5, 6, 8]` list.\n",
    "* Extend `['orange', 'apple', 'pear', 'banana', 'kiwi', 'apple', 'banana']` list with `['pineapple', 'litchi']` without append.\n",
    "* Unpack a tuple into multiple variables\n",
    "* Check if an element exist in a tuple \n",
    "* Find a repeacted item `2` in a tuple `2, 4, 5, 6, 2, 3, 4, 4, 7` Hint: use `count()`\n",
    "* For two set `{'apple', 'orange', 'pear', 'pineapple'}` and `{'kiwi', 'orange', 'apple', 'guwava'}`, find:\n",
    "    * Intersection\n",
    "    * Union\n",
    "    * Difference\n",
    "    * Symmetric Difference\n",
    "* Find the length of the above sets\n",
    "* For dictornary:\n",
    "    ```python\n",
    "    contact = {\n",
    "        'Ram Kasula': 9840298755,\n",
    "        'Anu Pau': 98651201503,\n",
    "        'Kade Hade': 9863331239,\n",
    "    }\n",
    "    ```\n",
    "    * Check if `Anu Pau` exists ing contact\n",
    "    * Concatenate below dictionary to contact:\n",
    "    ```python\n",
    "    new_contact = {\n",
    "        'Suraj Shakya': 98546625,\n",
    "        'Rashmni Maharjan': 98751478556,\n",
    "        'Sanjeev KC': 984656221546,\n",
    "        'Ram Kasula': 9840298755,\n",
    "    }\n",
    "    ```\n",
    "    * Remove `Sanjeev KC` from the above dict.\n",
    "    * Sort the above dict by Keys\n",
    "    * Check if dict is empty\n",
    "    * Find common keys between above two dict.\n",
    "    * Remove space from keys in above dictionary.\n",
    "    * Count the number of items in the dict.\n",
    "* Using list comprehension, print a table of 2\n",
    "* Using dictionary comprehension, print a table of 5\n",
    "* Remove vowel from string `A dictionary is data strucuture similar to contacts. You can find an address or contact of a person by his/her/its name`\n",
    "* Calculate final amount for individual items following transaction using comprehension techniques:\n",
    "    ```python\n",
    "    transactions = {\n",
    "        'Corn Flakes': 1001/1,\n",
    "        'Fruit Cake': 55.5,\n",
    "        'Apple Kashmiri 1KG': 500,\n",
    "        'Milk 1Packet': 40\n",
    "    }\n",
    "    tax_rate = 13\n",
    "    ```\n",
    "* From above, assuming discount rate is 10%, calculate the final prices for individual items and total amount.\n",
    "* Find unique vowel from string `It is a good day to Practice Python`\n",
    "* Find length of each word in `Today is my lucky day` using dictonary comprehension\n",
    "* Find numbers which is divisible by 2 but not by 5 using list comprehension upto 100"
   ]
  },
  {
   "cell_type": "markdown",
   "metadata": {},
   "source": [
    "# Solution to Exercises"
   ]
  },
  {
   "cell_type": "code",
   "execution_count": 111,
   "metadata": {},
   "outputs": [
    {
     "name": "stdout",
     "output_type": "stream",
     "text": [
      "28\n"
     ]
    }
   ],
   "source": [
    "#Sum all the items in the list [1, 2, 3, 4, 5, 6, 7] without built-in methods.\n",
    "\n",
    "list = [1, 2, 3, 4, 5, 6, 7]\n",
    "sum = 0 #initializing a variable sum\n",
    "for numbers in list:\n",
    "    sum += numbers # this can also be interpreted as sum = sum + numbers\n",
    "print(sum)"
   ]
  },
  {
   "cell_type": "code",
   "execution_count": 112,
   "metadata": {},
   "outputs": [
    {
     "name": "stdout",
     "output_type": "stream",
     "text": [
      "List without odd numbers [2, 4, 6]\n"
     ]
    }
   ],
   "source": [
    "#Remove odd number from [1, 2, 3, 4, 5, 6, 7] list\n",
    "\n",
    "list = [1, 2, 3, 4, 5, 6, 7]\n",
    "for i in list[0:]:\n",
    "    if i%2!=0:\n",
    "        list.remove(i)\n",
    "print(\"List without odd numbers\", list)"
   ]
  },
  {
   "cell_type": "code",
   "execution_count": 113,
   "metadata": {},
   "outputs": [
    {
     "data": {
      "text/plain": [
       "3"
      ]
     },
     "execution_count": 113,
     "metadata": {},
     "output_type": "execute_result"
    }
   ],
   "source": [
    "#Find the index of 4 in list [1, 2, 3, 4, 5, 6, 7]\n",
    "\n",
    "list = [1, 2, 3, 4, 5, 6, 7]\n",
    "list.index(4)"
   ]
  },
  {
   "cell_type": "code",
   "execution_count": 114,
   "metadata": {},
   "outputs": [
    {
     "data": {
      "text/plain": [
       "['orange', 'banana', 'banana']"
      ]
     },
     "execution_count": 114,
     "metadata": {},
     "output_type": "execute_result"
    }
   ],
   "source": [
    "#Find the longest item in the list ['orange', 'apple', 'pear', 'banana', 'kiwi', 'apple', 'banana']\n",
    "\n",
    "list = ['orange', 'apple', 'pear', 'banana', 'kiwi', 'apple', 'banana']\n",
    "length = max(len(items) for items in list) #finding out maximum length from the items in list\n",
    "#print(length) results 6 in this case\n",
    "[items for items in list if len(items) == length] #finding out the items which match the maximum length i.e. 6 in this case"
   ]
  },
  {
   "cell_type": "code",
   "execution_count": 115,
   "metadata": {},
   "outputs": [
    {
     "data": {
      "text/plain": [
       "['A orange', 'A apple', 'A pear', 'A banana', 'A kiwi', 'A apple', 'A banana']"
      ]
     },
     "execution_count": 115,
     "metadata": {},
     "output_type": "execute_result"
    }
   ],
   "source": [
    "#Concatinate 'A ' to all the items in the list ['orange', 'apple', 'pear', 'banana', 'kiwi', 'apple', 'banana']\n",
    "\n",
    "list = ['orange', 'apple', 'pear', 'banana', 'kiwi', 'apple', 'banana']\n",
    "string_to_concatenate = 'A'\n",
    "[string_to_concatenate + ' ' + items for items in list]"
   ]
  },
  {
   "cell_type": "code",
   "execution_count": 116,
   "metadata": {},
   "outputs": [
    {
     "name": "stdout",
     "output_type": "stream",
     "text": [
      "List is not empty!\n"
     ]
    }
   ],
   "source": [
    "#Check if list is empty\n",
    "\n",
    "list = ['orange', 'apple', 'pear', 'banana', 'kiwi', 'apple', 'banana']\n",
    "if len(list)>0:\n",
    "    print(\"List is not empty!\")\n",
    "else:\n",
    "    print(\"Emply list!\")"
   ]
  },
  {
   "cell_type": "code",
   "execution_count": 117,
   "metadata": {},
   "outputs": [
    {
     "name": "stdout",
     "output_type": "stream",
     "text": [
      "[1, 2, 3, 4, 5, 6, 7, 8]\n"
     ]
    }
   ],
   "source": [
    "#Insert 7 to second last element of  [1, 2, 3, 4, 5, 6, 8] list.\n",
    "\n",
    "list = [1, 2, 3, 4, 5, 6, 8]\n",
    "list.insert(6, 7) #inserting 7 at the 6th index of the list\n",
    "print(list)"
   ]
  },
  {
   "cell_type": "code",
   "execution_count": 118,
   "metadata": {},
   "outputs": [
    {
     "name": "stdout",
     "output_type": "stream",
     "text": [
      "['orange', 'apple', 'pear', 'banana', 'kiwi', 'apple', 'banana', 'pineapple', 'litchi']\n"
     ]
    }
   ],
   "source": [
    "#Extend ['orange', 'apple', 'pear', 'banana', 'kiwi', 'apple', 'banana'] list with ['pineapple', 'litchi'] without append.\n",
    "\n",
    "list = ['orange', 'apple', 'pear', 'banana', 'kiwi', 'apple', 'banana']\n",
    "list_to_add = ['pineapple', 'litchi']\n",
    "list = list + list_to_add\n",
    "print(list)"
   ]
  },
  {
   "cell_type": "code",
   "execution_count": 119,
   "metadata": {},
   "outputs": [
    {
     "name": "stdout",
     "output_type": "stream",
     "text": [
      "Hey! Python Training. 1\n"
     ]
    }
   ],
   "source": [
    "#Unpack a tuple into multiple variables\n",
    "\n",
    "tuple = 'Hey!', 'Python', 'Training.', 1\n",
    "t1, t2, t3, t4 = tuple\n",
    "print(t1, t2, t3, t4)"
   ]
  },
  {
   "cell_type": "code",
   "execution_count": null,
   "metadata": {},
   "outputs": [],
   "source": [
    "#Check if an element exist in a tuple\n",
    "\n",
    "tuple = 'Hi!', 147 , 'There'\n",
    "147 in tuple"
   ]
  },
  {
   "cell_type": "code",
   "execution_count": null,
   "metadata": {},
   "outputs": [],
   "source": [
    "#Find a repeacted item 2 in a tuple 2, 4, 5, 6, 2, 3, 4, 4, 7 Hint: use count()\n",
    "\n",
    "tuple = (2, 4, 5, 6, 2, 3, 4, 4, 7)\n",
    "print(tuple.count(2))"
   ]
  },
  {
   "cell_type": "markdown",
   "metadata": {},
   "source": [
    "For two set {'apple', 'orange', 'pear', 'pineapple'} and {'kiwi', 'orange', 'apple', 'guwava'}, find:\n",
    "Intersection\n",
    "Union\n",
    "Difference\n",
    "Symmetric Difference"
   ]
  },
  {
   "cell_type": "code",
   "execution_count": null,
   "metadata": {},
   "outputs": [],
   "source": [
    "fruits1 = {'apple', 'orange', 'pear', 'pineapple'}\n",
    "fruits2 = {'kiwi', 'orange', 'apple', 'guwava'}\n",
    "print(\"Intersection = \", fruits1 & fruits2)\n",
    "print(\"Union = \", fruits1 | fruits2)\n",
    "print(\"Difference = \", fruits1 - fruits2)\n",
    "print(\"Symmetric difference = \", fruits1^fruits2)"
   ]
  },
  {
   "cell_type": "code",
   "execution_count": null,
   "metadata": {},
   "outputs": [],
   "source": [
    "#Find the length of the above sets\n",
    "\n",
    "fruits1 = {'apple', 'orange', 'pear', 'pineapple'}\n",
    "fruits2 = {'kiwi', 'orange', 'apple', 'guwava'}\n",
    "print(\"Length of fruits1:\", len(fruits1))\n",
    "print(\"Length of fruits2:\", len(fruits2))"
   ]
  },
  {
   "cell_type": "markdown",
   "metadata": {},
   "source": [
    "For dictornary:\n",
    "contact = {\n",
    "      'Ram Kasula': 9840298755,\n",
    "      'Anu Pau': 98651201503,\n",
    "      'Kade Hade': 9863331239,\n",
    "  }\n",
    "Check if Anu Pau exists ing contact\n",
    "Concatenate below dictionary to contact:\n",
    "new_contact = {\n",
    "  'Suraj Shakya': 98546625,\n",
    "  'Rashmni Maharjan': 98751478556,\n",
    "  'Sanjeev KC': 984656221546,\n",
    "  'Ram Kasula': 9840298755,\n",
    "}\n",
    "Remove Sanjeev KC from the above dict.\n",
    "Sort the above dict by Keys\n",
    "Check if dict is empty\n",
    "Find common keys between above two dict.\n",
    "Remove space from keys in above dictionary.\n",
    "Count the number of items in the dict."
   ]
  },
  {
   "cell_type": "code",
   "execution_count": null,
   "metadata": {},
   "outputs": [],
   "source": [
    "contact = {\n",
    "      'Ram Kasula': 9840298755,\n",
    "      'Anu Pau': 9851201503,\n",
    "      'Kade Hade': 9863331239,\n",
    "  }\n",
    "\n",
    "#checking if Anu Pau is in contact\n",
    "'Anu Pau' in contact"
   ]
  },
  {
   "cell_type": "code",
   "execution_count": null,
   "metadata": {},
   "outputs": [],
   "source": [
    "#Concatenating below dictionary to contact\n",
    "\n",
    "contact = {\n",
    "      'Ram Kasula': 9840298755,\n",
    "      'Anu Pau': 9851201503,\n",
    "      'Kade Hade': 9863331239,\n",
    "  }\n",
    "\n",
    "new_contact = {\n",
    "  'Suraj Shakya': 98546625,\n",
    "  'Rashmni Maharjan': 98751478556,\n",
    "  'Sanjeev KC': 984656221546,\n",
    "  'Ram Kasula': 9840298755,\n",
    "}\n",
    "\n",
    "contact.update(new_contact)\n",
    "contact"
   ]
  },
  {
   "cell_type": "code",
   "execution_count": null,
   "metadata": {},
   "outputs": [],
   "source": [
    "#Removing Sanjeev KC from the above dict.\n",
    "\n",
    "del contact['Sanjeev KC']\n",
    "contact"
   ]
  },
  {
   "cell_type": "code",
   "execution_count": null,
   "metadata": {},
   "outputs": [],
   "source": [
    "#Sorting the above dict by Keys\n",
    "\n",
    "sorted(contact)"
   ]
  },
  {
   "cell_type": "code",
   "execution_count": null,
   "metadata": {},
   "outputs": [],
   "source": [
    "#Checking if dict is empty\n",
    "\n",
    "if(len(contact)>0):\n",
    "    print(\"Dictionary is not empty!\")\n",
    "else:\n",
    "    print(\"Dirctionary is empty!\")"
   ]
  },
  {
   "cell_type": "code",
   "execution_count": null,
   "metadata": {},
   "outputs": [],
   "source": [
    "#Finding common keys between above two dict.\n",
    "\n",
    "contact = {\n",
    "      'Ram Kasula': 9840298755,\n",
    "      'Anu Pau': 9851201503,\n",
    "      'Kade Hade': 9863331239,\n",
    "  }\n",
    "\n",
    "new_contact = {\n",
    "  'Suraj Shakya': 98546625,\n",
    "  'Rashmni Maharjan': 98751478556,\n",
    "  'Sanjeev KC': 984656221546,\n",
    "  'Ram Kasula': 9840298755,\n",
    "}\n",
    "\n",
    "for keys_contact in contact.keys():\n",
    "    for keys_new_contact in new_contact.keys():\n",
    "        if keys_contact == keys_new_contact:\n",
    "            print(\"The common keys are:\", keys_contact)"
   ]
  },
  {
   "cell_type": "code",
   "execution_count": null,
   "metadata": {},
   "outputs": [],
   "source": [
    "#Removing space from keys in above dictionary.\n",
    "\n",
    "contact = {\n",
    "      'Ram Kasula': 9840298755,\n",
    "      'Anu Pau': 9851201503,\n",
    "      'Kade Hade': 9863331239,\n",
    "  }\n",
    "\n",
    "new_contact = {\n",
    "  'Suraj Shakya': 98546625,\n",
    "  'Rashmni Maharjan': 98751478556,\n",
    "  'Sanjeev KC': 984656221546,\n",
    "  'Ram Kasula': 9840298755,\n",
    "}\n",
    "\n",
    "contact.update(new_contact) #adding new_contact to contact dictionary\n",
    "\n",
    "for keys in contact:\n",
    "    contact={keys.replace(' ',''):values for keys, values in contact.items()}\n",
    "print(contact)"
   ]
  },
  {
   "cell_type": "code",
   "execution_count": null,
   "metadata": {},
   "outputs": [],
   "source": [
    "#Counting the number of items in the dict.\n",
    "\n",
    "contact = {\n",
    "      'Ram Kasula': 9840298755,\n",
    "      'Anu Pau': 9851201503,\n",
    "      'Kade Hade': 9863331239,\n",
    "  }\n",
    "\n",
    "new_contact = {\n",
    "  'Suraj Shakya': 98546625,\n",
    "  'Rashmni Maharjan': 98751478556,\n",
    "  'Sanjeev KC': 984656221546,\n",
    "  'Ram Kasula': 9840298755,\n",
    "}\n",
    "\n",
    "contact.update(new_contact) #adding new_contact to contact dictionary\n",
    "\n",
    "for keys in contact:\n",
    "    length=len(contact.keys())\n",
    "print(\"The total number of items in the dictionary is:\", length)\n",
    "\n",
    "#or we can use the following:\n",
    "#print(\"The total number of items in the dictionary is:\", len(contact.items()))"
   ]
  },
  {
   "cell_type": "code",
   "execution_count": null,
   "metadata": {},
   "outputs": [],
   "source": [
    "#Using list comprehension, print a table of 2\n",
    "\n",
    "table_of_2 = [items*2 for items in range(1,11)]\n",
    "table_of_2"
   ]
  },
  {
   "cell_type": "code",
   "execution_count": null,
   "metadata": {},
   "outputs": [],
   "source": [
    "#Using dictionary comprehension, print a table of 5\n",
    "\n",
    "table_of_5 = {items*5 for items in range(1,11)}\n",
    "table_of_5"
   ]
  },
  {
   "cell_type": "code",
   "execution_count": 34,
   "metadata": {},
   "outputs": [
    {
     "name": "stdout",
     "output_type": "stream",
     "text": [
      " dctnry s dt strctr smlr t cntcts.  cn fnd n ddrss r cntct f  prsn by hs/hr/ts nm\n"
     ]
    }
   ],
   "source": [
    "#Remove vowel from string A dictionary is data strucuture similar to contacts. You can find an address or contact of a person by his/her/its name\n",
    "\n",
    "string = \"A dictionary is data strucuture similar to contacts. You can find an address or contact of a person by his/her/its name\"\n",
    "vowel_string = {'a', 'e', 'i', 'o', 'u'}\n",
    "new_string = string.lower() #if this step is missed the letter in uppercase will not be replaced\n",
    "for words in string.lower():\n",
    "    if words in vowel_string:\n",
    "        new_string = new_string.replace(words,'')\n",
    "print(new_string)"
   ]
  },
  {
   "cell_type": "markdown",
   "metadata": {},
   "source": [
    "Calculate final amount for individual items following transaction using comprehension techniques:\n",
    "  transactions = {\n",
    "      'Corn Flakes': 1001/1,\n",
    "      'Fruit Cake': 55.5,\n",
    "      'Apple Kashmiri 1KG': 500,\n",
    "      'Milk 1Packet': 40\n",
    "  }\n",
    "  tax_rate = 13\n",
    "From above, assuming discount rate is 10%, calculate the final prices for individual items and total amount.\n",
    "Find unique vowel from string It is a good day to Practice Python\n",
    "Find length of each word in Today is my lucky day using dictonary comprehension\n",
    "Find numbers which is divisible by 2 but not by 5 using list comprehension upto 100"
   ]
  },
  {
   "cell_type": "code",
   "execution_count": 87,
   "metadata": {},
   "outputs": [
    {
     "name": "stdout",
     "output_type": "stream",
     "text": [
      "Final price for Corn Flakes is: Rs.1031\n",
      "Final price for Fruit Cake is: Rs.57\n",
      "Final price for Apple Kashmiri 1KG is: Rs.515\n",
      "Final price for Milk 1Packet is: Rs.41\n",
      "The total price is: Rs.1644\n"
     ]
    }
   ],
   "source": [
    "#Calculating the final prices for individual items and total amount\n",
    "\n",
    "transactions = {\n",
    "      'Corn Flakes': 1001/1,\n",
    "      'Fruit Cake': 55.5,\n",
    "      'Apple Kashmiri 1KG': 500,\n",
    "      'Milk 1Packet': 40\n",
    "  }\n",
    "tax_rate = 13\n",
    "discount = 10/100\n",
    "total_tax = tax_rate/100\n",
    "\n",
    "individual_price = {items: transactions[items] for items in transactions.keys()}\n",
    "individual_price_with_tax_after_discount = {items: transactions[items] + transactions[items] * total_tax - transactions[items] * discount for items in transactions.keys()}\n",
    "total_price = sum(individual_price_with_tax_after_discount.values())\n",
    "\n",
    "for items, price in individual_price.items():\n",
    "    print('Final price for %s is: Rs.%d' % (items, individual_price_with_tax_after_discount[items]))\n",
    "    \n",
    "print('The total price is: Rs.%d' % total_price)"
   ]
  },
  {
   "cell_type": "code",
   "execution_count": 110,
   "metadata": {},
   "outputs": [
    {
     "data": {
      "text/plain": [
       "{'a', 'e', 'i', 'o'}"
      ]
     },
     "execution_count": 110,
     "metadata": {},
     "output_type": "execute_result"
    }
   ],
   "source": [
    "#Find unique vowel from string \"It is a good day to Practice Python\"\n",
    "\n",
    "string = 'It is a good day to Practice Python'\n",
    "unique_vowels = {x for x in string if x in 'aeiou'}\n",
    "unique_vowels"
   ]
  },
  {
   "cell_type": "code",
   "execution_count": 105,
   "metadata": {},
   "outputs": [
    {
     "data": {
      "text/plain": [
       "[5, 2, 2, 5, 3]"
      ]
     },
     "execution_count": 105,
     "metadata": {},
     "output_type": "execute_result"
    }
   ],
   "source": [
    "#Find length of each word in \"Today is my lucky day\" using dictonary comprehension\n",
    "\n",
    "[len(words) for words in 'Today is my lucky day'.split()]"
   ]
  },
  {
   "cell_type": "code",
   "execution_count": 103,
   "metadata": {},
   "outputs": [
    {
     "data": {
      "text/plain": [
       "[2,\n",
       " 4,\n",
       " 6,\n",
       " 8,\n",
       " 12,\n",
       " 14,\n",
       " 16,\n",
       " 18,\n",
       " 22,\n",
       " 24,\n",
       " 26,\n",
       " 28,\n",
       " 32,\n",
       " 34,\n",
       " 36,\n",
       " 38,\n",
       " 42,\n",
       " 44,\n",
       " 46,\n",
       " 48,\n",
       " 52,\n",
       " 54,\n",
       " 56,\n",
       " 58,\n",
       " 62,\n",
       " 64,\n",
       " 66,\n",
       " 68,\n",
       " 72,\n",
       " 74,\n",
       " 76,\n",
       " 78,\n",
       " 82,\n",
       " 84,\n",
       " 86,\n",
       " 88,\n",
       " 92,\n",
       " 94,\n",
       " 96,\n",
       " 98]"
      ]
     },
     "execution_count": 103,
     "metadata": {},
     "output_type": "execute_result"
    }
   ],
   "source": [
    "#Find numbers which is divisible by 2 but not by 5 using list comprehension upto 100\n",
    "\n",
    "[numbers for numbers in range(100) if numbers % 2 == 0 if numbers % 5 != 0]"
   ]
  }
 ],
 "metadata": {
  "kernelspec": {
   "display_name": "Python 3",
   "language": "python",
   "name": "python3"
  },
  "language_info": {
   "codemirror_mode": {
    "name": "ipython",
    "version": 3
   },
   "file_extension": ".py",
   "mimetype": "text/x-python",
   "name": "python",
   "nbconvert_exporter": "python",
   "pygments_lexer": "ipython3",
   "version": "3.8.1"
  }
 },
 "nbformat": 4,
 "nbformat_minor": 2
}
