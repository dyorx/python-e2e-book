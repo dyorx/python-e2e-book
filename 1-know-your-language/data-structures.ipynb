{
 "cells": [
  {
   "cell_type": "markdown",
   "metadata": {},
   "source": [
    "# Data Structures\n",
    "* Provides structure which can hold data together.\n",
    "* Used to store a collection of related data.\n",
    "\n",
    "## Lists\n",
    "* Holds ordered collection of items.\n",
    "* Should be enclosed in square brackets i.e. `[]`\n",
    "* We can add, remove or even search items in a lists, implying Lists are mutable data types.\n",
    "\n",
    "### List Methods:\n",
    "`list.append(x)`\n",
    "Add an item to the end of the list. Equivalent to a[len(a):] = [x].\n",
    "\n",
    "`list.extend(iterable)`\n",
    "Extend the list by appending all the items from the iterable. Equivalent to a[len(a):] = iterable.\n",
    "\n",
    "`list.insert(i, x)`\n",
    "Insert an item at a given position. The first argument is the index of the element before which to insert, so a.insert(0, x) inserts at the front of the list, and a.insert(len(a), x) is equivalent to a.append(x).\n",
    "\n",
    "`list.remove(x)`\n",
    "Remove the first item from the list whose value is equal to x. It raises a ValueError if there is no such item.\n",
    "\n",
    "`list.pop([i])`\n",
    "Remove the item at the given position in the list, and return it. If no index is specified, a.pop() removes and returns the last item in the list. (The square brackets around the i in the method signature denote that the parameter is optional, not that you should type square brackets at that position. You will see this notation frequently in the Python Library Reference.)\n",
    "\n",
    "`list.clear()`\n",
    "Remove all items from the list. Equivalent to del a[:].\n",
    "\n",
    "`list.index(x[, start[, end]])`\n",
    "Return zero-based index in the list of the first item whose value is equal to x. Raises a ValueError if there is no such item.\n",
    "The optional arguments start and end are interpreted as in the slice notation and are used to limit the search to a particular subsequence of the list. The returned index is computed relative to the beginning of the full sequence rather than the start argument.\n",
    "\n",
    "`list.count(x)`\n",
    "Return the number of times x appears in the list.\n",
    "\n",
    "`list.sort(key=None, reverse=False)`\n",
    "Sort the items of the list in place (the arguments can be used for sort customization, see sorted() for their explanation).\n",
    "\n",
    "`list.reverse()`\n",
    "Reverse the elements of the list in place.\n",
    "\n",
    "`list.copy()`\n",
    "Return a shallow copy of the list. Equivalent to a[:]."
   ]
  },
  {
   "cell_type": "markdown",
   "metadata": {},
   "source": [
    "An example that uses most of the `list` methods:"
   ]
  },
  {
   "cell_type": "code",
   "execution_count": 7,
   "metadata": {},
   "outputs": [
    {
     "data": {
      "text/plain": [
       "2"
      ]
     },
     "execution_count": 7,
     "metadata": {},
     "output_type": "execute_result"
    }
   ],
   "source": [
    "fruits = ['orange', 'apple', 'pear', 'banana', 'kiwi', 'apple', 'banana']\n",
    "fruits.count('apple')"
   ]
  },
  {
   "cell_type": "code",
   "execution_count": 8,
   "metadata": {},
   "outputs": [
    {
     "data": {
      "text/plain": [
       "0"
      ]
     },
     "execution_count": 8,
     "metadata": {},
     "output_type": "execute_result"
    }
   ],
   "source": [
    "fruits.count('tangerine')"
   ]
  },
  {
   "cell_type": "code",
   "execution_count": 9,
   "metadata": {},
   "outputs": [
    {
     "data": {
      "text/plain": [
       "3"
      ]
     },
     "execution_count": 9,
     "metadata": {},
     "output_type": "execute_result"
    }
   ],
   "source": [
    "fruits.index('banana')"
   ]
  },
  {
   "cell_type": "code",
   "execution_count": 10,
   "metadata": {},
   "outputs": [
    {
     "data": {
      "text/plain": [
       "6"
      ]
     },
     "execution_count": 10,
     "metadata": {},
     "output_type": "execute_result"
    }
   ],
   "source": [
    "fruits.index('banana', 4)"
   ]
  },
  {
   "cell_type": "code",
   "execution_count": 11,
   "metadata": {},
   "outputs": [
    {
     "data": {
      "text/plain": [
       "['banana', 'apple', 'kiwi', 'banana', 'pear', 'apple', 'orange']"
      ]
     },
     "execution_count": 11,
     "metadata": {},
     "output_type": "execute_result"
    }
   ],
   "source": [
    "fruits.reverse()\n",
    "fruits"
   ]
  },
  {
   "cell_type": "code",
   "execution_count": 12,
   "metadata": {},
   "outputs": [
    {
     "data": {
      "text/plain": [
       "['banana', 'apple', 'kiwi', 'banana', 'pear', 'apple', 'orange', 'grape']"
      ]
     },
     "execution_count": 12,
     "metadata": {},
     "output_type": "execute_result"
    }
   ],
   "source": [
    "fruits.append('grape')\n",
    "fruits"
   ]
  },
  {
   "cell_type": "code",
   "execution_count": 13,
   "metadata": {},
   "outputs": [
    {
     "data": {
      "text/plain": [
       "['apple', 'apple', 'banana', 'banana', 'grape', 'kiwi', 'orange', 'pear']"
      ]
     },
     "execution_count": 13,
     "metadata": {},
     "output_type": "execute_result"
    }
   ],
   "source": [
    "fruits.sort()\n",
    "fruits"
   ]
  },
  {
   "cell_type": "code",
   "execution_count": 14,
   "metadata": {},
   "outputs": [
    {
     "data": {
      "text/plain": [
       "'pear'"
      ]
     },
     "execution_count": 14,
     "metadata": {},
     "output_type": "execute_result"
    }
   ],
   "source": [
    "fruits.pop()"
   ]
  },
  {
   "cell_type": "markdown",
   "metadata": {},
   "source": [
    "## List as a Stack\n",
    "The list methods make it very easy to use a list as a stack, where the last element added is the first element retrieved (“last-in, first-out”). To add an item to the top of the stack, use `append()`. To retrieve an item from the top of the stack, use `pop()`"
   ]
  },
  {
   "cell_type": "code",
   "execution_count": 15,
   "metadata": {},
   "outputs": [],
   "source": [
    "stack = [3, 4, 5]\n",
    "stack.append(6)"
   ]
  },
  {
   "cell_type": "code",
   "execution_count": 16,
   "metadata": {},
   "outputs": [
    {
     "data": {
      "text/plain": [
       "[3, 4, 5, 6]"
      ]
     },
     "execution_count": 16,
     "metadata": {},
     "output_type": "execute_result"
    }
   ],
   "source": [
    "stack"
   ]
  },
  {
   "cell_type": "code",
   "execution_count": 17,
   "metadata": {},
   "outputs": [
    {
     "data": {
      "text/plain": [
       "[3, 4, 5, 6, 7]"
      ]
     },
     "execution_count": 17,
     "metadata": {},
     "output_type": "execute_result"
    }
   ],
   "source": [
    "stack.append(7)\n",
    "stack"
   ]
  },
  {
   "cell_type": "code",
   "execution_count": 18,
   "metadata": {},
   "outputs": [
    {
     "data": {
      "text/plain": [
       "7"
      ]
     },
     "execution_count": 18,
     "metadata": {},
     "output_type": "execute_result"
    }
   ],
   "source": [
    "stack.pop()"
   ]
  },
  {
   "cell_type": "code",
   "execution_count": 19,
   "metadata": {},
   "outputs": [
    {
     "data": {
      "text/plain": [
       "[3, 4, 5, 6]"
      ]
     },
     "execution_count": 19,
     "metadata": {},
     "output_type": "execute_result"
    }
   ],
   "source": [
    "stack"
   ]
  },
  {
   "cell_type": "code",
   "execution_count": 20,
   "metadata": {},
   "outputs": [
    {
     "data": {
      "text/plain": [
       "6"
      ]
     },
     "execution_count": 20,
     "metadata": {},
     "output_type": "execute_result"
    }
   ],
   "source": [
    "stack.pop()"
   ]
  },
  {
   "cell_type": "code",
   "execution_count": 21,
   "metadata": {},
   "outputs": [
    {
     "data": {
      "text/plain": [
       "[3, 4, 5]"
      ]
     },
     "execution_count": 21,
     "metadata": {},
     "output_type": "execute_result"
    }
   ],
   "source": [
    "stack"
   ]
  },
  {
   "cell_type": "markdown",
   "metadata": {},
   "source": [
    "## List as Queue\n",
    "It is also possible to use a list as a queue, where the first element added is the first element retrieved (“first-in, first-out”); however, lists are not efficient for this purpose.\n",
    "\n",
    "To implement a queue, use collections.deque which was designed to have fast appends and pops from both ends. For example:"
   ]
  },
  {
   "cell_type": "code",
   "execution_count": 22,
   "metadata": {},
   "outputs": [
    {
     "data": {
      "text/plain": [
       "'Eric'"
      ]
     },
     "execution_count": 22,
     "metadata": {},
     "output_type": "execute_result"
    }
   ],
   "source": [
    "from collections import deque\n",
    "queue = deque([\"Eric\", \"John\", \"Michael\"])\n",
    "queue.append(\"Terry\")           # Terry arrives\n",
    "queue.append(\"Graham\")          # Graham arrives\n",
    "queue.popleft()                 # The first to arrive now leaves"
   ]
  },
  {
   "cell_type": "code",
   "execution_count": 23,
   "metadata": {},
   "outputs": [
    {
     "data": {
      "text/plain": [
       "'John'"
      ]
     },
     "execution_count": 23,
     "metadata": {},
     "output_type": "execute_result"
    }
   ],
   "source": [
    "queue.popleft()                 # The second to arrive now leaves"
   ]
  },
  {
   "cell_type": "code",
   "execution_count": 24,
   "metadata": {},
   "outputs": [
    {
     "data": {
      "text/plain": [
       "deque(['Michael', 'Terry', 'Graham'])"
      ]
     },
     "execution_count": 24,
     "metadata": {},
     "output_type": "execute_result"
    }
   ],
   "source": [
    "queue                           # Remaining queue in order of arrival"
   ]
  },
  {
   "cell_type": "markdown",
   "metadata": {},
   "source": [
    "## List Comprehensions\n",
    "List comprehensions provide a concise way to create lists. Common applications are to make new lists where each element is the result of some operations applied to each member of another sequence or iterable, or to create a subsequence of those elements that satisfy a certain condition."
   ]
  },
  {
   "cell_type": "markdown",
   "metadata": {},
   "source": [
    "### Problem: Create list of squares\n",
    "\n",
    "Traditional approach:"
   ]
  },
  {
   "cell_type": "code",
   "execution_count": 25,
   "metadata": {},
   "outputs": [
    {
     "data": {
      "text/plain": [
       "[0, 1, 4, 9, 16, 25, 36, 49, 64, 81]"
      ]
     },
     "execution_count": 25,
     "metadata": {},
     "output_type": "execute_result"
    }
   ],
   "source": [
    "squares = []\n",
    "for x in range(10):\n",
    "    squares.append(x**2)\n",
    "\n",
    "squares"
   ]
  },
  {
   "cell_type": "code",
   "execution_count": 26,
   "metadata": {},
   "outputs": [
    {
     "data": {
      "text/plain": [
       "[0, 1, 4, 9, 16, 25, 36, 49, 64, 81]"
      ]
     },
     "execution_count": 26,
     "metadata": {},
     "output_type": "execute_result"
    }
   ],
   "source": [
    "squares = [x**2 for x in range(10)] # More concise and readable right?\n",
    "squares"
   ]
  },
  {
   "cell_type": "markdown",
   "metadata": {},
   "source": [
    "### Few more examples:"
   ]
  },
  {
   "cell_type": "code",
   "execution_count": 27,
   "metadata": {},
   "outputs": [
    {
     "data": {
      "text/plain": [
       "['p', 'y', 't', 'h', 'o', 'n']"
      ]
     },
     "execution_count": 27,
     "metadata": {},
     "output_type": "execute_result"
    }
   ],
   "source": [
    "[python for python in 'python']"
   ]
  },
  {
   "cell_type": "code",
   "execution_count": 30,
   "metadata": {},
   "outputs": [
    {
     "data": {
      "text/plain": [
       "[0, 1, 2, 3, 4, 5, 6, 7, 8, 9]"
      ]
     },
     "execution_count": 30,
     "metadata": {},
     "output_type": "execute_result"
    }
   ],
   "source": [
    "[number for number in range(10)]"
   ]
  },
  {
   "cell_type": "code",
   "execution_count": 35,
   "metadata": {},
   "outputs": [
    {
     "data": {
      "text/plain": [
       "[0, 2, 4, 6, 8]"
      ]
     },
     "execution_count": 35,
     "metadata": {},
     "output_type": "execute_result"
    }
   ],
   "source": [
    "[number for number in range(10) if number % 2 == 0]"
   ]
  },
  {
   "cell_type": "code",
   "execution_count": 36,
   "metadata": {},
   "outputs": [
    {
     "data": {
      "text/plain": [
       "[0, 10, 20, 30, 40, 50, 60, 70, 80, 90]"
      ]
     },
     "execution_count": 36,
     "metadata": {},
     "output_type": "execute_result"
    }
   ],
   "source": [
    "[number for number in range(100) if number % 2 == 0 if number % 5 == 0]"
   ]
  },
  {
   "cell_type": "code",
   "execution_count": 41,
   "metadata": {},
   "outputs": [
    {
     "data": {
      "text/plain": [
       "['Even', 'Odd', 'Even', 'Odd', 'Even', 'Odd', 'Even', 'Odd', 'Even', 'Odd']"
      ]
     },
     "execution_count": 41,
     "metadata": {},
     "output_type": "execute_result"
    }
   ],
   "source": [
    "['Even' if number%2==0 else \"Odd\" for number in range(10)]"
   ]
  },
  {
   "cell_type": "code",
   "execution_count": 42,
   "metadata": {},
   "outputs": [
    {
     "data": {
      "text/plain": [
       "[-8, -4, 0, 4, 8]"
      ]
     },
     "execution_count": 42,
     "metadata": {},
     "output_type": "execute_result"
    }
   ],
   "source": [
    "vec = [-4, -2, 0, 2, 4]\n",
    "# create a new list with the values doubled\n",
    "[x*2 for x in vec]"
   ]
  },
  {
   "cell_type": "code",
   "execution_count": 43,
   "metadata": {},
   "outputs": [
    {
     "data": {
      "text/plain": [
       "[0, 2, 4]"
      ]
     },
     "execution_count": 43,
     "metadata": {},
     "output_type": "execute_result"
    }
   ],
   "source": [
    "# filter the list to exclude negative numbers\n",
    "vec = [-4, -2, 0, 2, 4]\n",
    "[x for x in vec if x >= 0]"
   ]
  },
  {
   "cell_type": "code",
   "execution_count": 44,
   "metadata": {},
   "outputs": [
    {
     "data": {
      "text/plain": [
       "[4, 2, 0, 2, 4]"
      ]
     },
     "execution_count": 44,
     "metadata": {},
     "output_type": "execute_result"
    }
   ],
   "source": [
    "# apply a function to all the elements\n",
    "vec = [-4, -2, 0, 2, 4]\n",
    "[abs(x) for x in vec]"
   ]
  },
  {
   "cell_type": "markdown",
   "metadata": {},
   "source": [
    "## `del`"
   ]
  },
  {
   "cell_type": "code",
   "execution_count": 45,
   "metadata": {},
   "outputs": [
    {
     "data": {
      "text/plain": [
       "[1, 66.25, 333, 333, 1234.5]"
      ]
     },
     "execution_count": 45,
     "metadata": {},
     "output_type": "execute_result"
    }
   ],
   "source": [
    "a = [-1, 1, 66.25, 333, 333, 1234.5]\n",
    "del a[0]\n",
    "a"
   ]
  },
  {
   "cell_type": "code",
   "execution_count": 46,
   "metadata": {},
   "outputs": [
    {
     "data": {
      "text/plain": [
       "[1, 66.25, 1234.5]"
      ]
     },
     "execution_count": 46,
     "metadata": {},
     "output_type": "execute_result"
    }
   ],
   "source": [
    "del a[2:4]\n",
    "a"
   ]
  },
  {
   "cell_type": "code",
   "execution_count": 47,
   "metadata": {},
   "outputs": [
    {
     "data": {
      "text/plain": [
       "[]"
      ]
     },
     "execution_count": 47,
     "metadata": {},
     "output_type": "execute_result"
    }
   ],
   "source": [
    "del a[:]\n",
    "a"
   ]
  },
  {
   "cell_type": "code",
   "execution_count": 49,
   "metadata": {},
   "outputs": [
    {
     "ename": "NameError",
     "evalue": "name 'a' is not defined",
     "output_type": "error",
     "traceback": [
      "\u001b[1;31m---------------------------------------------------------------------------\u001b[0m",
      "\u001b[1;31mNameError\u001b[0m                                 Traceback (most recent call last)",
      "\u001b[1;32m<ipython-input-49-91b8cc03fd62>\u001b[0m in \u001b[0;36m<module>\u001b[1;34m\u001b[0m\n\u001b[1;32m----> 1\u001b[1;33m \u001b[1;32mdel\u001b[0m \u001b[0ma\u001b[0m \u001b[1;31m# del can also be used to delete entire variables\u001b[0m\u001b[1;33m\u001b[0m\u001b[1;33m\u001b[0m\u001b[0m\n\u001b[0m\u001b[0;32m      2\u001b[0m \u001b[0ma\u001b[0m\u001b[1;33m\u001b[0m\u001b[1;33m\u001b[0m\u001b[0m\n",
      "\u001b[1;31mNameError\u001b[0m: name 'a' is not defined"
     ]
    }
   ],
   "source": [
    "del a # del can also be used to delete entire variables\n",
    "a"
   ]
  },
  {
   "cell_type": "markdown",
   "metadata": {},
   "source": [
    "## Tuples\n",
    "Tuples are like lists except they are immutable like strings. They are useful when a statement or a function can safely assume that collection of values will not change."
   ]
  },
  {
   "cell_type": "code",
   "execution_count": 50,
   "metadata": {},
   "outputs": [
    {
     "data": {
      "text/plain": [
       "12345"
      ]
     },
     "execution_count": 50,
     "metadata": {},
     "output_type": "execute_result"
    }
   ],
   "source": [
    "t = 12345, 54321, 'hello!'\n",
    "t[0]"
   ]
  },
  {
   "cell_type": "code",
   "execution_count": 51,
   "metadata": {},
   "outputs": [
    {
     "data": {
      "text/plain": [
       "((12345, 54321, 'hello!'), (1, 2, 3, 4, 5))"
      ]
     },
     "execution_count": 51,
     "metadata": {},
     "output_type": "execute_result"
    }
   ],
   "source": [
    "# Tuples may be nested:\n",
    "u = t, (1, 2, 3, 4, 5)\n",
    "u"
   ]
  },
  {
   "cell_type": "code",
   "execution_count": 52,
   "metadata": {},
   "outputs": [
    {
     "ename": "TypeError",
     "evalue": "'tuple' object does not support item assignment",
     "output_type": "error",
     "traceback": [
      "\u001b[1;31m---------------------------------------------------------------------------\u001b[0m",
      "\u001b[1;31mTypeError\u001b[0m                                 Traceback (most recent call last)",
      "\u001b[1;32m<ipython-input-52-9e19cce22619>\u001b[0m in \u001b[0;36m<module>\u001b[1;34m\u001b[0m\n\u001b[0;32m      1\u001b[0m \u001b[1;31m# Tuples are immutable:\u001b[0m\u001b[1;33m\u001b[0m\u001b[1;33m\u001b[0m\u001b[1;33m\u001b[0m\u001b[0m\n\u001b[1;32m----> 2\u001b[1;33m \u001b[0mt\u001b[0m\u001b[1;33m[\u001b[0m\u001b[1;36m0\u001b[0m\u001b[1;33m]\u001b[0m \u001b[1;33m=\u001b[0m \u001b[1;36m88888\u001b[0m\u001b[1;33m\u001b[0m\u001b[1;33m\u001b[0m\u001b[0m\n\u001b[0m",
      "\u001b[1;31mTypeError\u001b[0m: 'tuple' object does not support item assignment"
     ]
    }
   ],
   "source": [
    "# Tuples are immutable:\n",
    "t[0] = 88888"
   ]
  },
  {
   "cell_type": "code",
   "execution_count": 53,
   "metadata": {},
   "outputs": [
    {
     "data": {
      "text/plain": [
       "([1, 2, 3], [3, 2, 1])"
      ]
     },
     "execution_count": 53,
     "metadata": {},
     "output_type": "execute_result"
    }
   ],
   "source": [
    "# but they can contain mutable objects:\n",
    "v = ([1, 2, 3], [3, 2, 1])\n",
    "v"
   ]
  },
  {
   "cell_type": "code",
   "execution_count": 58,
   "metadata": {},
   "outputs": [
    {
     "data": {
      "text/plain": [
       "(['Changed', 2, 3], [3, 2, 1])"
      ]
     },
     "execution_count": 58,
     "metadata": {},
     "output_type": "execute_result"
    }
   ],
   "source": [
    "v[0][0] = 'Changed'\n",
    "v"
   ]
  },
  {
   "cell_type": "markdown",
   "metadata": {},
   "source": [
    "### Sequence Unpacking\n",
    "Reverse operation of tuple packing"
   ]
  },
  {
   "cell_type": "code",
   "execution_count": 64,
   "metadata": {},
   "outputs": [
    {
     "name": "stdout",
     "output_type": "stream",
     "text": [
      "12345 54321 hello!\n"
     ]
    }
   ],
   "source": [
    "t = 12345, 54321, 'hello!' # Tuple packing\n",
    "a, b, c = t # Sequence unpacking\n",
    "print(a,b,c)\n",
    "\n",
    "# Requres as many variables on left as ther are on right element."
   ]
  },
  {
   "cell_type": "markdown",
   "metadata": {},
   "source": [
    "## Sets\n",
    "* Unordered collection with no duplicate elements.\n",
    "* Supports mathematical operations like union, interaction, difference.\n",
    "\n",
    "You can create sets using `{}` or `set()` function"
   ]
  },
  {
   "cell_type": "code",
   "execution_count": 65,
   "metadata": {},
   "outputs": [
    {
     "data": {
      "text/plain": [
       "{'apple', 'orange', 'pear', 'pineapple'}"
      ]
     },
     "execution_count": 65,
     "metadata": {},
     "output_type": "execute_result"
    }
   ],
   "source": [
    "shopping_basket = {'apple', 'orange', 'pineapple', 'apple', 'pear'}\n",
    "shopping_basket"
   ]
  },
  {
   "cell_type": "code",
   "execution_count": 71,
   "metadata": {},
   "outputs": [
    {
     "data": {
      "text/plain": [
       "set"
      ]
     },
     "execution_count": 71,
     "metadata": {},
     "output_type": "execute_result"
    }
   ],
   "source": [
    "shopping_basket = set()\n",
    "type(shopping_basket)"
   ]
  },
  {
   "cell_type": "code",
   "execution_count": 73,
   "metadata": {},
   "outputs": [
    {
     "data": {
      "text/plain": [
       "dict"
      ]
     },
     "execution_count": 73,
     "metadata": {},
     "output_type": "execute_result"
    }
   ],
   "source": [
    "shopping_basket = {}\n",
    "type(shopping_basket)"
   ]
  },
  {
   "cell_type": "code",
   "execution_count": 74,
   "metadata": {},
   "outputs": [
    {
     "data": {
      "text/plain": [
       "True"
      ]
     },
     "execution_count": 74,
     "metadata": {},
     "output_type": "execute_result"
    }
   ],
   "source": [
    "shopping_basket = {'apple', 'orange', 'pineapple', 'apple', 'pear'}\n",
    "'apple' in shopping_basket"
   ]
  },
  {
   "cell_type": "code",
   "execution_count": 75,
   "metadata": {},
   "outputs": [
    {
     "data": {
      "text/plain": [
       "False"
      ]
     },
     "execution_count": 75,
     "metadata": {},
     "output_type": "execute_result"
    }
   ],
   "source": [
    "'strawberry' in shopping_basket"
   ]
  },
  {
   "cell_type": "code",
   "execution_count": 82,
   "metadata": {},
   "outputs": [
    {
     "data": {
      "text/plain": [
       "{'a', 'b', 'c', 'd', 'r'}"
      ]
     },
     "execution_count": 82,
     "metadata": {},
     "output_type": "execute_result"
    }
   ],
   "source": [
    "a = set('abracadabra')\n",
    "b = set('alacazam')\n",
    "a # unique letters in a"
   ]
  },
  {
   "cell_type": "code",
   "execution_count": 83,
   "metadata": {},
   "outputs": [
    {
     "data": {
      "text/plain": [
       "{'a', 'c', 'l', 'm', 'z'}"
      ]
     },
     "execution_count": 83,
     "metadata": {},
     "output_type": "execute_result"
    }
   ],
   "source": [
    "b # unique letters in b"
   ]
  },
  {
   "cell_type": "code",
   "execution_count": 84,
   "metadata": {},
   "outputs": [
    {
     "data": {
      "text/plain": [
       "{'b', 'd', 'r'}"
      ]
     },
     "execution_count": 84,
     "metadata": {},
     "output_type": "execute_result"
    }
   ],
   "source": [
    "a - b # letters in a but not in b"
   ]
  },
  {
   "cell_type": "code",
   "execution_count": 85,
   "metadata": {},
   "outputs": [
    {
     "data": {
      "text/plain": [
       "{'a', 'b', 'c', 'd', 'l', 'm', 'r', 'z'}"
      ]
     },
     "execution_count": 85,
     "metadata": {},
     "output_type": "execute_result"
    }
   ],
   "source": [
    "a | b # letters in a or b or both"
   ]
  },
  {
   "cell_type": "code",
   "execution_count": 86,
   "metadata": {},
   "outputs": [
    {
     "data": {
      "text/plain": [
       "{'a', 'c'}"
      ]
     },
     "execution_count": 86,
     "metadata": {},
     "output_type": "execute_result"
    }
   ],
   "source": [
    "a & b # letters in both a and b"
   ]
  },
  {
   "cell_type": "code",
   "execution_count": 87,
   "metadata": {},
   "outputs": [
    {
     "data": {
      "text/plain": [
       "{'b', 'd', 'l', 'm', 'r', 'z'}"
      ]
     },
     "execution_count": 87,
     "metadata": {},
     "output_type": "execute_result"
    }
   ],
   "source": [
    "a ^ b # letters in a or b but not bot"
   ]
  },
  {
   "cell_type": "markdown",
   "metadata": {},
   "source": [
    "### Set comprehensions"
   ]
  },
  {
   "cell_type": "code",
   "execution_count": 89,
   "metadata": {},
   "outputs": [
    {
     "data": {
      "text/plain": [
       "{'d', 'r'}"
      ]
     },
     "execution_count": 89,
     "metadata": {},
     "output_type": "execute_result"
    }
   ],
   "source": [
    "a = {x for x in 'abracadabra' if x not in 'abc'}\n",
    "a"
   ]
  },
  {
   "cell_type": "markdown",
   "metadata": {},
   "source": [
    "## Dictionary\n",
    "A dictionary is data strucuture similar to contacts. You can find an address or contact of a person by his/her/its name.\n",
    "In dictionary, we associate name (i.e keys) with details (i.e values)\n",
    "Dictionary are indexed by keys, which can be any immutable types (string or numbers) and must be unique."
   ]
  },
  {
   "cell_type": "code",
   "execution_count": 3,
   "metadata": {},
   "outputs": [
    {
     "data": {
      "text/plain": [
       "{'Ram Kasula': 98402985, 'Anu Pau': 98651201503, 'Kade Hade': 9863331239}"
      ]
     },
     "execution_count": 3,
     "metadata": {},
     "output_type": "execute_result"
    }
   ],
   "source": [
    "contact = {\n",
    "    'Ram Kasula': 9840298755,\n",
    "    'Anu Pau': 98651201503,\n",
    "    'Kade Hade': 9863331239,\n",
    "    'Ram Kasula': 98402985,\n",
    "}\n",
    "\n",
    "contact"
   ]
  },
  {
   "cell_type": "code",
   "execution_count": 91,
   "metadata": {},
   "outputs": [
    {
     "data": {
      "text/plain": [
       "{'Ram Kasula': 9840298755, 'Anu Pau': 98651201503}"
      ]
     },
     "execution_count": 91,
     "metadata": {},
     "output_type": "execute_result"
    }
   ],
   "source": [
    "del contact['Kade Hade']\n",
    "contact"
   ]
  },
  {
   "cell_type": "code",
   "execution_count": 92,
   "metadata": {},
   "outputs": [
    {
     "data": {
      "text/plain": [
       "{'Ram Kasula': 9840298755, 'Anu Pau': 98651201503, 'Santa Behen': 9845022233}"
      ]
     },
     "execution_count": 92,
     "metadata": {},
     "output_type": "execute_result"
    }
   ],
   "source": [
    "contact['Santa Behen'] = 9845022233\n",
    "contact"
   ]
  },
  {
   "cell_type": "code",
   "execution_count": 93,
   "metadata": {},
   "outputs": [
    {
     "data": {
      "text/plain": [
       "['Ram Kasula', 'Anu Pau', 'Santa Behen']"
      ]
     },
     "execution_count": 93,
     "metadata": {},
     "output_type": "execute_result"
    }
   ],
   "source": [
    "list(contact)"
   ]
  },
  {
   "cell_type": "code",
   "execution_count": 94,
   "metadata": {},
   "outputs": [
    {
     "data": {
      "text/plain": [
       "['Anu Pau', 'Ram Kasula', 'Santa Behen']"
      ]
     },
     "execution_count": 94,
     "metadata": {},
     "output_type": "execute_result"
    }
   ],
   "source": [
    "sorted(contact)"
   ]
  },
  {
   "cell_type": "code",
   "execution_count": 95,
   "metadata": {},
   "outputs": [
    {
     "data": {
      "text/plain": [
       "True"
      ]
     },
     "execution_count": 95,
     "metadata": {},
     "output_type": "execute_result"
    }
   ],
   "source": [
    "'Santa Behen' in contact"
   ]
  },
  {
   "cell_type": "code",
   "execution_count": 96,
   "metadata": {},
   "outputs": [
    {
     "data": {
      "text/plain": [
       "False"
      ]
     },
     "execution_count": 96,
     "metadata": {},
     "output_type": "execute_result"
    }
   ],
   "source": [
    "'Kade Hade' in contact"
   ]
  },
  {
   "cell_type": "code",
   "execution_count": 97,
   "metadata": {},
   "outputs": [
    {
     "data": {
      "text/plain": [
       "{'A': 1, 'B': 2}"
      ]
     },
     "execution_count": 97,
     "metadata": {},
     "output_type": "execute_result"
    }
   ],
   "source": [
    "dict([('A',1), ('B',2)])"
   ]
  },
  {
   "cell_type": "markdown",
   "metadata": {},
   "source": [
    "### Dictionary Comprehensions"
   ]
  },
  {
   "cell_type": "code",
   "execution_count": 98,
   "metadata": {},
   "outputs": [
    {
     "data": {
      "text/plain": [
       "{1: 1, 2: 4, 3: 9}"
      ]
     },
     "execution_count": 98,
     "metadata": {},
     "output_type": "execute_result"
    }
   ],
   "source": [
    "{number: number**2 for number in (1, 2, 3)}"
   ]
  },
  {
   "cell_type": "markdown",
   "metadata": {},
   "source": [
    "### RealWorld Example"
   ]
  },
  {
   "cell_type": "code",
   "execution_count": 5,
   "metadata": {
    "scrolled": true
   },
   "outputs": [
    {
     "name": "stdout",
     "output_type": "stream",
     "text": [
      "dict_values([810, 30, 90, 0])\n",
      "Individual Expense {'Eliza': 810, 'Binay': 30, 'Kshitiz': 90, 'Sajal': 0}\n",
      "Total Expense 930\n",
      "Expense for Eliza is -577\n",
      "Expense for Binay is 202\n",
      "Expense for Kshitiz is 142\n",
      "Expense for Sajal is 232\n"
     ]
    }
   ],
   "source": [
    "expenses = {\n",
    "    'Eliza': {\n",
    "        'Dahi': 280,\n",
    "        'PaniPuri': 120,\n",
    "        'Bara': 160,\n",
    "        'Kulfi': 200,\n",
    "        'Pau': 50,\n",
    "    },\n",
    "    'Binay': {\n",
    "        'Water': 30,\n",
    "    },\n",
    "    'Kshitiz': {\n",
    "        'Chocolate': 90,\n",
    "    },\n",
    "    'Sajal': {\n",
    "        \n",
    "    },\n",
    "}\n",
    "\n",
    "individual_expense = {person: sum(expenses[person].values()) for person in expenses.keys()}\n",
    "print(individual_expense.values())\n",
    "total_expense = sum(individual_expense.values())\n",
    "\n",
    "print('Individual Expense', individual_expense)\n",
    "print('Total Expense', total_expense)\n",
    "\n",
    "for person, expense in individual_expense.items():\n",
    "    print('Expense for %s is %d' % (person, ((total_expense/len(expenses)) - individual_expense[person])))"
   ]
  },
  {
   "cell_type": "markdown",
   "metadata": {},
   "source": [
    "# Practice:\n",
    "* Sum all the items in the list `[1, 2, 3, 4, 5, 6, 7]` without built-in methods.\n",
    "* Remove odd number from `[1, 2, 3, 4, 5, 6, 7]` list\n",
    "* Find the index of `4` in list `[1, 2, 3, 4, 5, 6, 7]`\n",
    "* Find the longest item in the list `['orange', 'apple', 'pear', 'banana', 'kiwi', 'apple', 'banana']`\n",
    "* Concatinate `'A '` to all the items in the list `['orange', 'apple', 'pear', 'banana', 'kiwi', 'apple', 'banana']`\n",
    "* Check if list is empty\n",
    "* Insert `7` to second last element of  `[1, 2, 3, 4, 5, 6, 8]` list.\n",
    "* Extend `['orange', 'apple', 'pear', 'banana', 'kiwi', 'apple', 'banana']` list with `['pineapple', 'litchi']` without append.\n",
    "* Unpack a tuple into multiple variables\n",
    "* Check if an element exist in a tuple \n",
    "* Find a repeated item `2` in a tuple `2, 4, 5, 6, 2, 3, 4, 4, 7` Hint: use `count()`\n",
    "* For two set `{'apple', 'orange', 'pear', 'pineapple'}` and `{'kiwi', 'orange', 'apple', 'guwava'}`, find:\n",
    "    * Intersection\n",
    "    * Union\n",
    "    * Difference\n",
    "    * Symmetric Difference\n",
    "* Find the length of the above sets\n",
    "* For dictornary:\n",
    "    ```python\n",
    "    contact = {\n",
    "        'Ram Kasula': 9840298755,\n",
    "        'Anu Pau': 98651201503,\n",
    "        'Kade Hade': 9863331239,\n",
    "    }\n",
    "    ```\n",
    "    * Check if `Anu Pau` exists ing contact\n",
    "    * Concatenate below dictionary to contact:\n",
    "    ```python\n",
    "    new_contact = {\n",
    "        'Suraj Shakya': 98546625,\n",
    "        'Rashmni Maharjan': 98751478556,\n",
    "        'Sanjeev KC': 984656221546,\n",
    "        'Ram Kasula': 9840298755,\n",
    "    }\n",
    "    ```\n",
    "    * Remove `Sanjeev KC` from the above dict.\n",
    "    * Sort the above dict by Keys\n",
    "    * Check if dict is empty\n",
    "    * Find common keys between above two dict.\n",
    "    * Remove space from keys in above dictionary.\n",
    "    * Count the number of items in the dict.\n",
    "* Using list comprehension, print a table of 2\n",
    "* Using dictionary comprehension, print a table of 5\n",
    "* Remove vowel from string `A dictionary is data strucuture similar to contacts. You can find an address or contact of a person by his/her/its name`\n",
    "* Calculate final amount for individual items following transaction using comprehension techniques:\n",
    "    ```python\n",
    "    transactions = {\n",
    "        'Corn Flakes': 1001/1,\n",
    "        'Fruit Cake': 55.5,\n",
    "        'Apple Kashmiri 1KG': 500,\n",
    "        'Milk 1Packet': 40\n",
    "    }\n",
    "    tax_rate = 13\n",
    "    ```\n",
    "* From above, assuming discount rate is 10%, calculate the final prices for individual items and total amount.\n",
    "* Find unique vowel from string `It is a good day to Practice Python`\n",
    "* Find length of each word in `Today is my lucky day` using dictonary comprehension\n",
    "* Find numbers which is divisible by 2 but not by 5 using list comprehension upto 100"
   ]
  },
  {
   "cell_type": "code",
   "execution_count": 1,
   "metadata": {},
   "outputs": [
    {
     "name": "stdout",
     "output_type": "stream",
     "text": [
      "28\n"
     ]
    }
   ],
   "source": [
    "# Sum all the items in the list `[1, 2, 3, 4, 5, 6, 7]` without built-in methods.\n",
    "\n",
    "lst = [1, 2, 3, 4, 5, 6, 7]\n",
    "sum = 0\n",
    "for i in lst:\n",
    "    sum += i\n",
    "    \n",
    "print(sum)"
   ]
  },
  {
   "cell_type": "code",
   "execution_count": 11,
   "metadata": {},
   "outputs": [
    {
     "name": "stdout",
     "output_type": "stream",
     "text": [
      "[2, 4, 6]\n"
     ]
    }
   ],
   "source": [
    "# Remove odd number from `[1, 2, 3, 4, 5, 6, 7]` list\n",
    "\n",
    "lst = [1, 2, 3, 4, 5, 6, 7]\n",
    "# lst = [i for i in lst if i%2 == 0]\n",
    "# print(lst)\n",
    "\n",
    "for i in lst:\n",
    "    if i%2 == 1:\n",
    "        lst.remove(i)\n",
    "        \n",
    "print(lst)"
   ]
  },
  {
   "cell_type": "code",
   "execution_count": 15,
   "metadata": {},
   "outputs": [
    {
     "data": {
      "text/plain": [
       "3"
      ]
     },
     "execution_count": 15,
     "metadata": {},
     "output_type": "execute_result"
    }
   ],
   "source": [
    "# Find the index of `4` in list `[1, 2, 3, 4, 5, 6, 7]`\n",
    "\n",
    "lst = [1, 2, 3, 4, 5, 6, 7]\n",
    "lst.index(4)\n"
   ]
  },
  {
   "cell_type": "code",
   "execution_count": 42,
   "metadata": {},
   "outputs": [
    {
     "name": "stdout",
     "output_type": "stream",
     "text": [
      "banana\n"
     ]
    }
   ],
   "source": [
    "# Find the longest item in the list `['orange', 'apple', 'pear', 'banana', 'kiwi', 'apple', 'banana']`\n",
    "fruits = ['orange', 'apple', 'pear', 'banana', 'kiwi', 'apple', 'banana']\n",
    "\n",
    "a = sorted(fruits, key = len).pop()\n",
    "print(a)\n"
   ]
  },
  {
   "cell_type": "code",
   "execution_count": 43,
   "metadata": {},
   "outputs": [
    {
     "name": "stdout",
     "output_type": "stream",
     "text": [
      "['A orange', 'A apple', 'A pear', 'A banana', 'A kiwi', 'A apple', 'A banana']\n"
     ]
    }
   ],
   "source": [
    "# Concatinate `'A '` to all the items in the list `['orange', 'apple', 'pear', 'banana', 'kiwi', 'apple', 'banana']`\n",
    "\n",
    "fruits = ['orange', 'apple', 'pear', 'banana', 'kiwi', 'apple', 'banana']\n",
    "for fruit in fruits:\n",
    "    fruits[fruits.index(fruit)] = 'A '+ fruit\n",
    "    \n",
    "print(fruits)"
   ]
  },
  {
   "cell_type": "code",
   "execution_count": 46,
   "metadata": {},
   "outputs": [
    {
     "name": "stdout",
     "output_type": "stream",
     "text": [
      "True\n",
      "False\n"
     ]
    }
   ],
   "source": [
    "# Check if list is empty\n",
    "emptylist = []\n",
    "nonemptyist = [1,2,3,4]\n",
    "\n",
    "print(len(emptylist) == 0)\n",
    "print(len(nonemptyist) == 0)"
   ]
  },
  {
   "cell_type": "code",
   "execution_count": 57,
   "metadata": {},
   "outputs": [
    {
     "data": {
      "text/plain": [
       "[1, 2, 3, 4, 5, 6, 7, 8]"
      ]
     },
     "execution_count": 57,
     "metadata": {},
     "output_type": "execute_result"
    }
   ],
   "source": [
    "# Insert `7` to second last element of  `[1, 2, 3, 4, 5, 6, 8]` list.\n",
    "\n",
    "lst = [1, 2, 3, 4, 5, 6, 8]\n",
    "lst.insert(-1, 7)\n",
    "lst"
   ]
  },
  {
   "cell_type": "code",
   "execution_count": 58,
   "metadata": {},
   "outputs": [
    {
     "data": {
      "text/plain": [
       "['orange',\n",
       " 'apple',\n",
       " 'pear',\n",
       " 'banana',\n",
       " 'kiwi',\n",
       " 'apple',\n",
       " 'banana',\n",
       " 'pineapple',\n",
       " 'litchi']"
      ]
     },
     "execution_count": 58,
     "metadata": {},
     "output_type": "execute_result"
    }
   ],
   "source": [
    "# Extend `['orange', 'apple', 'pear', 'banana', 'kiwi', 'apple', 'banana']` list with `['pineapple', 'litchi']` without append.\n",
    "\n",
    "fruits1 = ['orange', 'apple', 'pear', 'banana', 'kiwi', 'apple', 'banana']\n",
    "fruits2 = ['pineapple', 'litchi']\n",
    "\n",
    "fruits1.extend(fruits2)\n",
    "fruits1"
   ]
  },
  {
   "cell_type": "code",
   "execution_count": 62,
   "metadata": {},
   "outputs": [
    {
     "name": "stdout",
     "output_type": "stream",
     "text": [
      "1\n",
      "2\n",
      "3\n"
     ]
    }
   ],
   "source": [
    "# Unpack a tuple into multiple variables\n",
    "\n",
    "a = (1,2,3)\n",
    "x,y,z = a\n",
    "\n",
    "print(x)\n",
    "print(y)\n",
    "print(z)"
   ]
  },
  {
   "cell_type": "code",
   "execution_count": 66,
   "metadata": {},
   "outputs": [
    {
     "name": "stdout",
     "output_type": "stream",
     "text": [
      "True\n",
      "False\n"
     ]
    }
   ],
   "source": [
    "# Check if an element exist in a tuple \n",
    "\n",
    "a = (1,2,3)\n",
    "print(1 in a)\n",
    "print(12 in a)"
   ]
  },
  {
   "cell_type": "code",
   "execution_count": 73,
   "metadata": {},
   "outputs": [
    {
     "data": {
      "text/plain": [
       "[2]"
      ]
     },
     "execution_count": 73,
     "metadata": {},
     "output_type": "execute_result"
    }
   ],
   "source": [
    "# Find a repeated item `2` in a tuple `2, 4, 5, 6, 2, 3, 4, 4, 7` Hint: use `count()`\n",
    "\n",
    "tup =(2, 4, 5, 6, 2, 3, 4, 4, 7)\n",
    "item_counts = {}\n",
    "\n",
    "for item in set(tup):\n",
    "    item_counts[item] = tup.count(item)\n",
    "    \n",
    "items_repeated_twice = [key for key, value in  item_counts.items() if value == 2]\n",
    "items_repeated_twice"
   ]
  },
  {
   "cell_type": "code",
   "execution_count": 81,
   "metadata": {},
   "outputs": [
    {
     "data": {
      "text/plain": [
       "{'guwava', 'kiwi', 'pear', 'pineapple'}"
      ]
     },
     "execution_count": 81,
     "metadata": {},
     "output_type": "execute_result"
    }
   ],
   "source": [
    "fruits1 = {'apple', 'orange', 'pear', 'pineapple'}\n",
    "fruits2 = {'kiwi', 'orange', 'apple', 'guwava'}\n",
    "\n",
    "# intersection\n",
    "fruits1_intersect_fruits2 = fruits1.intersection(fruits2) \n",
    "len(fruits1_intersect_fruits2)\n",
    "\n",
    "\n",
    "#union\n",
    "fruits1_union_fruits2 = fruits1.union(fruits2)\n",
    "len(fruits1_union_fruits2)\n",
    "\n",
    "\n",
    "# Difference fruits1 - fruits2\n",
    "fruits1_minus_fruits2 = fruits1.difference(fruits2)\n",
    "len(fruits1_minus_fruits2)\n",
    "\n",
    "\n",
    "# Difference fruits2 - fruits1\n",
    "fruits2_minus_fruits1 = fruits2.difference(fruits1)\n",
    "len(fruits2_minus_fruits1)\n",
    "\n",
    "\n",
    "# Symmetric difference\n",
    "fruits2_sym_diff_fruits1 = fruits2.symmetric_difference(fruits1)\n",
    "len(fruits2_sym_diff_fruits1)"
   ]
  },
  {
   "cell_type": "code",
   "execution_count": 10,
   "metadata": {},
   "outputs": [
    {
     "data": {
      "text/plain": [
       "True"
      ]
     },
     "execution_count": 10,
     "metadata": {},
     "output_type": "execute_result"
    }
   ],
   "source": [
    "# Check if Anu Pau exists ing contact\n",
    "\n",
    "contact = {\n",
    "    'Ram Kasula': 9840298755,\n",
    "    'Anu Pau': 98651201503,\n",
    "    'Kade Hade': 9863331239,\n",
    "}\n",
    "\n",
    "'Anu Pau' in contact\n"
   ]
  },
  {
   "cell_type": "code",
   "execution_count": 11,
   "metadata": {},
   "outputs": [
    {
     "data": {
      "text/plain": [
       "{'Ram Kasula': 9840298755,\n",
       " 'Anu Pau': 98651201503,\n",
       " 'Kade Hade': 9863331239,\n",
       " 'Suraj Shakya': 98546625,\n",
       " 'Rashmni Maharjan': 98751478556,\n",
       " 'Sanjeev KC': 984656221546}"
      ]
     },
     "execution_count": 11,
     "metadata": {},
     "output_type": "execute_result"
    }
   ],
   "source": [
    "# Concatenate below dictionary to contact:\n",
    "\n",
    "\n",
    "contact = {\n",
    "    'Ram Kasula': 9840298755,\n",
    "    'Anu Pau': 98651201503,\n",
    "    'Kade Hade': 9863331239,\n",
    "}\n",
    "\n",
    "new_contact = {\n",
    "  'Suraj Shakya': 98546625,\n",
    "  'Rashmni Maharjan': 98751478556,\n",
    "  'Sanjeev KC': 984656221546,\n",
    "  'Ram Kasula': 9840298755,\n",
    "}\n",
    "\n",
    "for key, value in new_contact.items():\n",
    "    contact[key] = value\n",
    "\n",
    "contact"
   ]
  },
  {
   "cell_type": "code",
   "execution_count": 15,
   "metadata": {},
   "outputs": [
    {
     "data": {
      "text/plain": [
       "{'Ram Kasula': 9840298755,\n",
       " 'Anu Pau': 98651201503,\n",
       " 'Kade Hade': 9863331239,\n",
       " 'Suraj Shakya': 98546625,\n",
       " 'Rashmni Maharjan': 98751478556}"
      ]
     },
     "execution_count": 15,
     "metadata": {},
     "output_type": "execute_result"
    }
   ],
   "source": [
    "# Remove `Sanjeev KC` from the above dict.\n",
    "\n",
    "del contact['Sanjeev KC']\n",
    "contact"
   ]
  },
  {
   "cell_type": "code",
   "execution_count": 32,
   "metadata": {},
   "outputs": [
    {
     "data": {
      "text/plain": [
       "[('Anu Pau', 98651201503),\n",
       " ('Kade Hade', 9863331239),\n",
       " ('Ram Kasula', 9840298755),\n",
       " ('Rashmni Maharjan', 98751478556),\n",
       " ('Suraj Shakya', 98546625)]"
      ]
     },
     "execution_count": 32,
     "metadata": {},
     "output_type": "execute_result"
    }
   ],
   "source": [
    "# Sort the above dict by Keys\n",
    "\n",
    "sorted(contact.items(), key=lambda kv : kv[0])"
   ]
  },
  {
   "cell_type": "code",
   "execution_count": 39,
   "metadata": {},
   "outputs": [
    {
     "data": {
      "text/plain": [
       "False"
      ]
     },
     "execution_count": 39,
     "metadata": {},
     "output_type": "execute_result"
    }
   ],
   "source": [
    "# Check if dict is empty\n",
    "empty_dict = {}\n",
    "\n",
    "len(empty_dict) == 0\n",
    "\n",
    "empty_dict = {}\n",
    "\n",
    "len(contact) == 0"
   ]
  },
  {
   "cell_type": "code",
   "execution_count": 44,
   "metadata": {},
   "outputs": [
    {
     "data": {
      "text/plain": [
       "{'Ram Kasula'}"
      ]
     },
     "execution_count": 44,
     "metadata": {},
     "output_type": "execute_result"
    }
   ],
   "source": [
    "# Find common keys between above two dict.\n",
    "\n",
    "contact = {\n",
    "    'Ram Kasula': 9840298755,\n",
    "    'Anu Pau': 98651201503,\n",
    "    'Kade Hade': 9863331239,\n",
    "}\n",
    "\n",
    "new_contact = {\n",
    "  'Suraj Shakya': 98546625,\n",
    "  'Rashmni Maharjan': 98751478556,\n",
    "  'Sanjeev KC': 984656221546,\n",
    "  'Ram Kasula': 9840298755,\n",
    "}\n",
    "\n",
    "contact_keys = set(contact.keys())\n",
    "new_contact_keys = set(new_contact.keys())\n",
    "contact_keys.intersection(new_contact_keys)"
   ]
  },
  {
   "cell_type": "code",
   "execution_count": 47,
   "metadata": {},
   "outputs": [
    {
     "data": {
      "text/plain": [
       "{'SurajShakya': 98546625,\n",
       " 'RashmniMaharjan': 98751478556,\n",
       " 'SanjeevKC': 984656221546,\n",
       " 'RamKasula': 9840298755}"
      ]
     },
     "execution_count": 47,
     "metadata": {},
     "output_type": "execute_result"
    }
   ],
   "source": [
    "# Remove space from keys in above dictionary.\n",
    "new_contact = {\n",
    "  'Suraj Shakya': 98546625,\n",
    "  'Rashmni Maharjan': 98751478556,\n",
    "  'Sanjeev KC': 984656221546,\n",
    "  'Ram Kasula': 9840298755,\n",
    "}\n",
    "\n",
    "new_contact_no_space = {}\n",
    "for k, v in new_contact.items():\n",
    "    new_contact_no_space[k.replace(' ', '')] = v\n",
    "    \n",
    "    \n",
    "new_contact_no_space"
   ]
  },
  {
   "cell_type": "code",
   "execution_count": 48,
   "metadata": {},
   "outputs": [
    {
     "data": {
      "text/plain": [
       "4"
      ]
     },
     "execution_count": 48,
     "metadata": {},
     "output_type": "execute_result"
    }
   ],
   "source": [
    "# Count the number of items in the dict.\n",
    "new_contact = {\n",
    "  'Suraj Shakya': 98546625,\n",
    "  'Rashmni Maharjan': 98751478556,\n",
    "  'Sanjeev KC': 984656221546,\n",
    "  'Ram Kasula': 9840298755,\n",
    "}\n",
    "len(new_contact)"
   ]
  },
  {
   "cell_type": "code",
   "execution_count": 49,
   "metadata": {},
   "outputs": [
    {
     "data": {
      "text/plain": [
       "[2, 4, 6, 8, 10, 12, 14, 16, 18, 20]"
      ]
     },
     "execution_count": 49,
     "metadata": {},
     "output_type": "execute_result"
    }
   ],
   "source": [
    "# Using list comprehension, print a table of 2\n",
    "[2 * i for i in range(1, 11)]\n"
   ]
  },
  {
   "cell_type": "code",
   "execution_count": 51,
   "metadata": {},
   "outputs": [
    {
     "data": {
      "text/plain": [
       "{'5 * 1 = 5',\n",
       " '5 * 10 = 50',\n",
       " '5 * 2 = 10',\n",
       " '5 * 3 = 15',\n",
       " '5 * 4 = 20',\n",
       " '5 * 5 = 25',\n",
       " '5 * 6 = 30',\n",
       " '5 * 7 = 35',\n",
       " '5 * 8 = 40',\n",
       " '5 * 9 = 45'}"
      ]
     },
     "execution_count": 51,
     "metadata": {},
     "output_type": "execute_result"
    }
   ],
   "source": [
    "# Using dictionary comprehension, print a table of 5\n",
    "{'5 * {} = {}'.format(i, 5*i) for i in range(1,11)}\n"
   ]
  },
  {
   "cell_type": "code",
   "execution_count": 64,
   "metadata": {},
   "outputs": [
    {
     "data": {
      "text/plain": [
       "'A dctnry s dt strctr smlr t cntcts. Y cn fnd n ddrss r cntct f  prsn by hs/hr/ts nm'"
      ]
     },
     "execution_count": 64,
     "metadata": {},
     "output_type": "execute_result"
    }
   ],
   "source": [
    "# Remove vowel from string `A dictionary is data strucuture similar to contacts. You can find an address or contact of a person by his/her/its name`\n",
    "\n",
    "string = 'A dictionary is data strucuture similar to contacts. You can find an address or contact of a person by his/her/its name'\n",
    "for i in string:\n",
    "    if i in ['a', 'e', 'i', 'o', 'u']:\n",
    "        string = string.replace(i, '')\n",
    "        \n",
    "string\n"
   ]
  },
  {
   "cell_type": "code",
   "execution_count": 88,
   "metadata": {},
   "outputs": [
    {
     "data": {
      "text/plain": [
       "{'Corn Flakes': 1131.13,\n",
       " 'Fruit Cake': 62.715,\n",
       " 'Apple Kashmiri 1KG': 565.0,\n",
       " 'Milk 1Packet': 45.2}"
      ]
     },
     "execution_count": 88,
     "metadata": {},
     "output_type": "execute_result"
    }
   ],
   "source": [
    "# * Calculate final amount for individual items following transaction using comprehension techniques:\n",
    "#     ```python\n",
    "#     transactions = {\n",
    "#         'Corn Flakes': 1001/1,\n",
    "#         'Fruit Cake': 55.5,\n",
    "#         'Apple Kashmiri 1KG': 500,\n",
    "#         'Milk 1Packet': 40\n",
    "#     }\n",
    "#     tax_rate = 13\n",
    "\n",
    "transactions = {\n",
    "    'Corn Flakes': 1001,\n",
    "    'Fruit Cake': 55.5,\n",
    "    'Apple Kashmiri 1KG': 500,\n",
    "    'Milk 1Packet': 40\n",
    "}\n",
    "tax_rate = 13\n",
    "\n",
    "amt_incl_tax = {k : v + ((v * tax_rate)/100) for k, v in transactions.items()}\n",
    "amt_incl_tax\n"
   ]
  },
  {
   "cell_type": "code",
   "execution_count": 83,
   "metadata": {},
   "outputs": [
    {
     "name": "stdout",
     "output_type": "stream",
     "text": [
      "{'Corn Flakes': 1018.017, 'Fruit Cake': 56.4435, 'Apple Kashmiri 1KG': 508.5, 'Milk 1Packet': 40.68000000000001}\n",
      "Total amount : 1623.6405000000002\n"
     ]
    }
   ],
   "source": [
    "# From above, assuming discount rate is 10%, calculate the final prices for individual items and total amount.\n",
    "discount = 10\n",
    "net_amt = {k : v - ((v * discount)/100) for k, v in amt_incl_tax.items()}\n",
    "\n",
    "print(net_amt)\n",
    "print('Total amount :', sum(net_amt.values()))\n"
   ]
  },
  {
   "cell_type": "code",
   "execution_count": 79,
   "metadata": {},
   "outputs": [
    {
     "data": {
      "text/plain": [
       "{'a', 'e', 'i', 'o'}"
      ]
     },
     "execution_count": 79,
     "metadata": {},
     "output_type": "execute_result"
    }
   ],
   "source": [
    "# Find unique vowel from string `It is a good day to Practice Python`\n",
    "string = 'It is a good day to Practice Python'\n",
    "\n",
    "unique_vowels = {i for i in string if i in ['a', 'e', 'i', 'o', 'u']}\n",
    "unique_vowels\n"
   ]
  },
  {
   "cell_type": "code",
   "execution_count": 90,
   "metadata": {},
   "outputs": [
    {
     "data": {
      "text/plain": [
       "{'Today': 5, 'is': 2, 'my': 2, 'lucky': 5, 'day': 3}"
      ]
     },
     "execution_count": 90,
     "metadata": {},
     "output_type": "execute_result"
    }
   ],
   "source": [
    "# Find length of each word in `Today is my lucky day` using dictonary comprehension\n",
    "string = 'Today is my lucky day'\n",
    "\n",
    "dic = {i : len(i) for i in string.split()}\n",
    "dic\n"
   ]
  },
  {
   "cell_type": "code",
   "execution_count": 94,
   "metadata": {},
   "outputs": [
    {
     "data": {
      "text/plain": [
       "[2,\n",
       " 4,\n",
       " 6,\n",
       " 8,\n",
       " 12,\n",
       " 14,\n",
       " 16,\n",
       " 18,\n",
       " 22,\n",
       " 24,\n",
       " 26,\n",
       " 28,\n",
       " 32,\n",
       " 34,\n",
       " 36,\n",
       " 38,\n",
       " 42,\n",
       " 44,\n",
       " 46,\n",
       " 48,\n",
       " 52,\n",
       " 54,\n",
       " 56,\n",
       " 58,\n",
       " 62,\n",
       " 64,\n",
       " 66,\n",
       " 68,\n",
       " 72,\n",
       " 74,\n",
       " 76,\n",
       " 78,\n",
       " 82,\n",
       " 84,\n",
       " 86,\n",
       " 88,\n",
       " 92,\n",
       " 94,\n",
       " 96,\n",
       " 98]"
      ]
     },
     "execution_count": 94,
     "metadata": {},
     "output_type": "execute_result"
    }
   ],
   "source": [
    "# Find numbers which is divisible by 2 but not by 5 using list comprehension upto 100\n",
    "\n",
    "num = [i for i in range(101) if i%2 == 0 if i%5 != 0 ]\n",
    "num"
   ]
  }
 ],
 "metadata": {
  "kernelspec": {
   "display_name": "Python 3",
   "language": "python",
   "name": "python3"
  },
  "language_info": {
   "codemirror_mode": {
    "name": "ipython",
    "version": 3
   },
   "file_extension": ".py",
   "mimetype": "text/x-python",
   "name": "python",
   "nbconvert_exporter": "python",
   "pygments_lexer": "ipython3",
   "version": "3.8.1"
  }
 },
 "nbformat": 4,
 "nbformat_minor": 2
}
