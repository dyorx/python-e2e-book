{
 "cells": [
  {
   "cell_type": "markdown",
   "metadata": {},
   "source": [
    "# Object Oriented Programming (OOP)\n",
    "Object-oriented Programming, or OOP, is a programming paradigm which provides a means of structuring programs so that properties(attributes) and behaviors(methods) are bundled into individual objects.\n",
    "\n",
    "For example, an object could represent a car with properties like name, color, wheels etc. and with behaviors like accelerate, brake, steer etc. An object could also represent a person with properties like name, age, sex, etc and with behaviours like talking, eating, walking, running etc.\n",
    "\n",
    "Another common programming paradigm is procedural programming which structures a program like a recipe in that it provides a set of steps, in the form of functions and code blocks, which flow sequentially in order to complete a task.\n",
    "\n",
    "The key takeaway is that objects are at the center of the object-oriented programming paradigm, not only representing the data, as in procedural programming, but in the overall structure of the program as well."
   ]
  },
  {
   "cell_type": "markdown",
   "metadata": {},
   "source": [
    "## Namespaces and Scopes"
   ]
  },
  {
   "cell_type": "markdown",
   "metadata": {},
   "source": [
    "## Namespaces\n",
    "* Is basically a system to make sure that all the names in a program are unique and can be used without any conflict.\n",
    "* **Interesting fact**: Python implements namespaces as dictionaries\n",
    "* There is a name-to-object mapping, with the names as keys and the objects as values.\n",
    "* Multiple namespaces can use the same name and map it to a different object.\n",
    "* **Name:** an unique identifier & **Space:** something related to scope."
   ]
  },
  {
   "cell_type": "markdown",
   "metadata": {},
   "source": [
    "### Types of Namespace\n",
    "\n",
    "* **Local namespace** includes local names inside a function.\n",
    "* **Global namespace** includes names from various imported modules that you are using in a project.\n",
    "* **Built-in namespace** includes built-in functions and built-in exception names."
   ]
  },
  {
   "cell_type": "markdown",
   "metadata": {},
   "source": [
    "### Examples:"
   ]
  },
  {
   "cell_type": "code",
   "execution_count": 19,
   "metadata": {},
   "outputs": [],
   "source": [
    "# var1 is in the global namespace \n",
    "var1 = 5\n",
    "def some_func(): \n",
    "    # var2 is in the local namespace \n",
    "    var2 = 6\n",
    "    def some_inner_func(): \n",
    "        # var3 is in the nested local \n",
    "        # namespace \n",
    "        var3 = 7"
   ]
  },
  {
   "cell_type": "code",
   "execution_count": 1,
   "metadata": {},
   "outputs": [
    {
     "name": "stdout",
     "output_type": "stream",
     "text": [
      "6\n"
     ]
    }
   ],
   "source": [
    "num_of_people = 5\n",
    "\n",
    "def add_people(): \n",
    "    global num_of_people \n",
    "    num_of_people = num_of_people + 1\n",
    "    print(num_of_people) \n",
    "\n",
    "add_people()"
   ]
  },
  {
   "cell_type": "code",
   "execution_count": null,
   "metadata": {},
   "outputs": [],
   "source": []
  },
  {
   "cell_type": "markdown",
   "metadata": {},
   "source": [
    "### `dir()` function\n",
    "* Without arguments, return the list of names in the current local scope. \n",
    "* With an argument, attempt to return a list of valid attributes for that object."
   ]
  },
  {
   "cell_type": "code",
   "execution_count": 21,
   "metadata": {},
   "outputs": [
    {
     "name": "stdout",
     "output_type": "stream",
     "text": [
      "['Car', 'In', 'Out', 'SuperCar', '_', '__', '___', '__builtin__', '__builtins__', '__doc__', '__loader__', '__name__', '__package__', '__spec__', '_dh', '_i', '_i1', '_i10', '_i11', '_i12', '_i13', '_i14', '_i15', '_i16', '_i17', '_i18', '_i19', '_i2', '_i20', '_i21', '_i3', '_i4', '_i5', '_i6', '_i7', '_i8', '_i9', '_ih', '_ii', '_iii', '_oh', 'add_people', 'exit', 'get_ipython', 'i20', 'lamborghini', 'num_of_people', 'quit', 'some_func', 'var1']\n"
     ]
    }
   ],
   "source": [
    "print(dir())"
   ]
  },
  {
   "cell_type": "code",
   "execution_count": 23,
   "metadata": {},
   "outputs": [
    {
     "name": "stdout",
     "output_type": "stream",
     "text": [
      "['__annotations__', '__call__', '__class__', '__closure__', '__code__', '__defaults__', '__delattr__', '__dict__', '__dir__', '__doc__', '__eq__', '__format__', '__ge__', '__get__', '__getattribute__', '__globals__', '__gt__', '__hash__', '__init__', '__init_subclass__', '__kwdefaults__', '__le__', '__lt__', '__module__', '__name__', '__ne__', '__new__', '__qualname__', '__reduce__', '__reduce_ex__', '__repr__', '__setattr__', '__sizeof__', '__str__', '__subclasshook__']\n"
     ]
    }
   ],
   "source": [
    "print(dir(add_people))"
   ]
  },
  {
   "cell_type": "markdown",
   "metadata": {},
   "source": [
    "## Scopes\n",
    "* Namespace uniquely identifies names in a program, but it does't allow us to use a variable anywhere we want.\n",
    "* Scopes are region where a Python's object are accessible without any prefix."
   ]
  },
  {
   "cell_type": "markdown",
   "metadata": {},
   "source": [
    "### Types of Scopes\n",
    "During execution of a program, following scope exists:\n",
    "\n",
    "* **innermost scope**, which is searched first, contains the local names\n",
    "* **scopes of any enclosing functions**, which are searched starting with the nearest enclosing scope, contains non-local, but also non-global names\n",
    "* **next-to-last scope** contains the current module’s global names\n",
    "* **outermost scope** (searched last) is the namespace containing built-in names"
   ]
  },
  {
   "cell_type": "markdown",
   "metadata": {},
   "source": [
    "### Example"
   ]
  },
  {
   "cell_type": "code",
   "execution_count": 16,
   "metadata": {},
   "outputs": [
    {
     "name": "stdout",
     "output_type": "stream",
     "text": [
      "Inside some_func\n",
      "Inside inner function, value of var: 10\n"
     ]
    },
    {
     "ename": "NameError",
     "evalue": "name 'var' is not defined",
     "output_type": "error",
     "traceback": [
      "\u001b[1;31m---------------------------------------------------------------------------\u001b[0m",
      "\u001b[1;31mNameError\u001b[0m                                 Traceback (most recent call last)",
      "\u001b[1;32m<ipython-input-16-5fc192decd15>\u001b[0m in \u001b[0;36m<module>\u001b[1;34m\u001b[0m\n\u001b[0;32m      6\u001b[0m     \u001b[0msome_inner_func\u001b[0m\u001b[1;33m(\u001b[0m\u001b[1;33m)\u001b[0m\u001b[1;33m\u001b[0m\u001b[1;33m\u001b[0m\u001b[0m\n\u001b[0;32m      7\u001b[0m     \u001b[0mprint\u001b[0m\u001b[1;33m(\u001b[0m\u001b[1;34m\"Try printing var from outer function: \"\u001b[0m\u001b[1;33m,\u001b[0m\u001b[0mvar\u001b[0m\u001b[1;33m)\u001b[0m\u001b[1;33m\u001b[0m\u001b[1;33m\u001b[0m\u001b[0m\n\u001b[1;32m----> 8\u001b[1;33m \u001b[0msome_func\u001b[0m\u001b[1;33m(\u001b[0m\u001b[1;33m)\u001b[0m\u001b[1;33m\u001b[0m\u001b[1;33m\u001b[0m\u001b[0m\n\u001b[0m",
      "\u001b[1;32m<ipython-input-16-5fc192decd15>\u001b[0m in \u001b[0;36msome_func\u001b[1;34m()\u001b[0m\n\u001b[0;32m      5\u001b[0m         \u001b[0mprint\u001b[0m\u001b[1;33m(\u001b[0m\u001b[1;34m\"Inside inner function, value of var:\"\u001b[0m\u001b[1;33m,\u001b[0m\u001b[0mvar\u001b[0m\u001b[1;33m)\u001b[0m\u001b[1;33m\u001b[0m\u001b[1;33m\u001b[0m\u001b[0m\n\u001b[0;32m      6\u001b[0m     \u001b[0msome_inner_func\u001b[0m\u001b[1;33m(\u001b[0m\u001b[1;33m)\u001b[0m\u001b[1;33m\u001b[0m\u001b[1;33m\u001b[0m\u001b[0m\n\u001b[1;32m----> 7\u001b[1;33m     \u001b[0mprint\u001b[0m\u001b[1;33m(\u001b[0m\u001b[1;34m\"Try printing var from outer function: \"\u001b[0m\u001b[1;33m,\u001b[0m\u001b[0mvar\u001b[0m\u001b[1;33m)\u001b[0m\u001b[1;33m\u001b[0m\u001b[1;33m\u001b[0m\u001b[0m\n\u001b[0m\u001b[0;32m      8\u001b[0m \u001b[0msome_func\u001b[0m\u001b[1;33m(\u001b[0m\u001b[1;33m)\u001b[0m\u001b[1;33m\u001b[0m\u001b[1;33m\u001b[0m\u001b[0m\n",
      "\u001b[1;31mNameError\u001b[0m: name 'var' is not defined"
     ]
    }
   ],
   "source": [
    "def some_func(): \n",
    "    print(\"Inside some_func\") \n",
    "    def some_inner_func(): \n",
    "        var = 10\n",
    "        print(\"Inside inner function, value of var:\",var) \n",
    "    some_inner_func() \n",
    "    print(\"Try printing var from outer function: \",var) \n",
    "some_func()"
   ]
  },
  {
   "cell_type": "code",
   "execution_count": 17,
   "metadata": {},
   "outputs": [
    {
     "name": "stdout",
     "output_type": "stream",
     "text": [
      "a_num inside inner_func : 20\n",
      "b_num inside inner_func : 21\n",
      "a_num inside outer_func : 20\n",
      "b_num inside outer_func : 16\n",
      "a_num outside all functions : 20\n",
      "b_num outside all functions : 11\n"
     ]
    }
   ],
   "source": [
    "a_num = 10\n",
    "b_num = 11\n",
    " \n",
    "def outer_func():\n",
    "    global a_num\n",
    "    a_num = 15\n",
    "    b_num = 16\n",
    "    def inner_func():\n",
    "        global a_num\n",
    "        a_num = 20\n",
    "        b_num = 21\n",
    "        print('a_num inside inner_func :', a_num)\n",
    "        print('b_num inside inner_func :', b_num)\n",
    "    inner_func()\n",
    "    print('a_num inside outer_func :', a_num)\n",
    "    print('b_num inside outer_func :', b_num)\n",
    "     \n",
    "outer_func()\n",
    "print('a_num outside all functions :', a_num)\n",
    "print('b_num outside all functions :', b_num)"
   ]
  },
  {
   "cell_type": "markdown",
   "metadata": {},
   "source": [
    "## Class in Python\n",
    "* User-defined datastructure used to define arbitrary information about something.\n",
    "* For example, a `Car()` class can have properties like name, type etc.\n",
    "* **Note:** Class is just like a blueprint, it doen't hold any state."
   ]
  },
  {
   "cell_type": "markdown",
   "metadata": {},
   "source": [
    "## Object in Python\n",
    "* While class is a blueprint, an Object (Instance) is a copy of class with real values.\n",
    "* Its like a Car with real name 'i20' and model '2019'"
   ]
  },
  {
   "cell_type": "markdown",
   "metadata": {},
   "source": [
    "## A Glance at Classes"
   ]
  },
  {
   "cell_type": "markdown",
   "metadata": {},
   "source": [
    "### Defining Class"
   ]
  },
  {
   "cell_type": "markdown",
   "metadata": {},
   "source": [
    "```python\n",
    "class ClassName:\n",
    "    <statement-1>\n",
    "    .\n",
    "    .\n",
    "    .\n",
    "    <statement-N>\n",
    "```"
   ]
  },
  {
   "cell_type": "code",
   "execution_count": 1,
   "metadata": {},
   "outputs": [],
   "source": [
    "class PythonClass:\n",
    "    pass # pass is like a place holder where the code will enventually be written."
   ]
  },
  {
   "cell_type": "markdown",
   "metadata": {},
   "source": [
    "### Instance Attributes\n",
    "* All classes create objects, and all objects contain characteristics called attributes (sometimes referred to as properties)\n",
    "* Use the `__init__()` method to initialize the object's initial attributes. (State)\n",
    "* `__init__()` method must have at least one argument `self`, which refers to object itself."
   ]
  },
  {
   "cell_type": "code",
   "execution_count": 2,
   "metadata": {},
   "outputs": [],
   "source": [
    "class Car:\n",
    "    \n",
    "    # Instance Attributes\n",
    "    def __init__(self, name, unid):\n",
    "        self.name = name\n",
    "        self.unid = unid "
   ]
  },
  {
   "cell_type": "code",
   "execution_count": null,
   "metadata": {},
   "outputs": [],
   "source": []
  },
  {
   "cell_type": "markdown",
   "metadata": {},
   "source": [
    "**Note**: We never call the __init__() method; it gets autmatically called when a new instance is created."
   ]
  },
  {
   "cell_type": "markdown",
   "metadata": {},
   "source": [
    "### Class Attributes\n",
    "* Shared by all the instances of the class.\n",
    "* Class attributes remain the same for all instances."
   ]
  },
  {
   "cell_type": "code",
   "execution_count": 2,
   "metadata": {},
   "outputs": [],
   "source": [
    "class Car:\n",
    "    \n",
    "    # Class Attribute\n",
    "    type = 'vehicle'\n",
    "    \n",
    "    # Instance Attributes\n",
    "    def __init__(self, name, unid):\n",
    "        self.name = name\n",
    "        self.unid = unid "
   ]
  },
  {
   "cell_type": "code",
   "execution_count": 7,
   "metadata": {},
   "outputs": [
    {
     "ename": "IndentationError",
     "evalue": "expected an indented block (<ipython-input-7-e536e6e34604>, line 2)",
     "output_type": "error",
     "traceback": [
      "\u001b[1;36m  File \u001b[1;32m\"<ipython-input-7-e536e6e34604>\"\u001b[1;36m, line \u001b[1;32m2\u001b[0m\n\u001b[1;33m    print(\"brand name is brand() and car is carname()\");\u001b[0m\n\u001b[1;37m    ^\u001b[0m\n\u001b[1;31mIndentationError\u001b[0m\u001b[1;31m:\u001b[0m expected an indented block\n"
     ]
    }
   ],
   "source": [
    "def cartype(brand,carname):\n",
    "print(\"brand name is brand() and car is carname()\");\n",
    "\n",
    "cartype(Hero,toyota);\n"
   ]
  },
  {
   "cell_type": "markdown",
   "metadata": {},
   "source": [
    "### Intantiate an Object(s) from a Class\n",
    "* means creating a new, unique instance of a class"
   ]
  },
  {
   "cell_type": "code",
   "execution_count": 25,
   "metadata": {},
   "outputs": [
    {
     "data": {
      "text/plain": [
       "<__main__.Car at 0x1db880825e0>"
      ]
     },
     "execution_count": 25,
     "metadata": {},
     "output_type": "execute_result"
    }
   ],
   "source": [
    "class Car:\n",
    "    pass\n",
    "\n",
    "Car()"
   ]
  },
  {
   "cell_type": "code",
   "execution_count": 26,
   "metadata": {},
   "outputs": [
    {
     "data": {
      "text/plain": [
       "<__main__.Car at 0x1db88082f40>"
      ]
     },
     "execution_count": 26,
     "metadata": {},
     "output_type": "execute_result"
    }
   ],
   "source": [
    "Car()"
   ]
  },
  {
   "cell_type": "code",
   "execution_count": 27,
   "metadata": {},
   "outputs": [
    {
     "data": {
      "text/plain": [
       "False"
      ]
     },
     "execution_count": 27,
     "metadata": {},
     "output_type": "execute_result"
    }
   ],
   "source": [
    "car_A = Car()\n",
    "car_B = Car()\n",
    "\n",
    "car_A == car_B"
   ]
  },
  {
   "cell_type": "markdown",
   "metadata": {},
   "source": [
    "### Instance Methods\n",
    "\n",
    "* Define inside a class, and can be used to get the content or perform operation on an instance/attributes.\n",
    "* Similar to `__init__()` method, they also have `self` variable\n"
   ]
  },
  {
   "cell_type": "code",
   "execution_count": 6,
   "metadata": {},
   "outputs": [
    {
     "name": "stdout",
     "output_type": "stream",
     "text": [
      "Car name is i20 and its ID is 1123\n",
      "Car is honking at level 2\n"
     ]
    }
   ],
   "source": [
    "class Car:\n",
    "    \n",
    "    # Class Attribute\n",
    "    type = 'vehicle'\n",
    "    \n",
    "    # Instance Attributes\n",
    "    def __init__(self, name, unid):\n",
    "        self.name = name\n",
    "        self.unid = unid\n",
    "    \n",
    "    # An instance method\n",
    "    def description(self):\n",
    "        return \"Car name is {} and its ID is {}\".format(self.name, self.unid)\n",
    "    \n",
    "    # An instance method\n",
    "    def honk(self, level=1):\n",
    "        return \"Car is honking at level {}\".format(level)\n",
    "\n",
    "# Instantiate Car object\n",
    "i20 = Car(\"i20\", 1123)\n",
    "\n",
    "# Call instance method\n",
    "print(i20.description())\n",
    "print(i20.honk(2))"
   ]
  },
  {
   "cell_type": "code",
   "execution_count": 7,
   "metadata": {},
   "outputs": [
    {
     "data": {
      "text/plain": [
       "'My name is Rashmi, and mY age is 10'"
      ]
     },
     "execution_count": 7,
     "metadata": {},
     "output_type": "execute_result"
    }
   ],
   "source": [
    "\"My name is {}, and mY age is {}\".format('Rashmi',10)"
   ]
  },
  {
   "cell_type": "code",
   "execution_count": 8,
   "metadata": {},
   "outputs": [
    {
     "data": {
      "text/plain": [
       "'My name is 10, and mY age is Rashmi'"
      ]
     },
     "execution_count": 8,
     "metadata": {},
     "output_type": "execute_result"
    }
   ],
   "source": [
    "\"My name is {1}, and mY age is {0}\".format('Rashmi',10)"
   ]
  },
  {
   "cell_type": "code",
   "execution_count": 3,
   "metadata": {},
   "outputs": [
    {
     "data": {
      "text/plain": [
       "'My name is Rashmi, and mY age is 10'"
      ]
     },
     "execution_count": 3,
     "metadata": {},
     "output_type": "execute_result"
    }
   ],
   "source": [
    "\"My name is {name}, and mY age is {age}\".format(name='Rashmi',age=10)"
   ]
  },
  {
   "cell_type": "markdown",
   "metadata": {},
   "source": [
    "Attribute lookup priotizes the instance, when same attribute name occurs. See below:"
   ]
  },
  {
   "cell_type": "code",
   "execution_count": 11,
   "metadata": {},
   "outputs": [
    {
     "name": "stdout",
     "output_type": "stream",
     "text": [
      "Kshitiz Maharjan Male\n",
      "Kshitiz Maharjan Female\n",
      "Kshitiz Maharjan Male\n"
     ]
    }
   ],
   "source": [
    "class Person:\n",
    "    name = 'Kshitiz Maharjan'\n",
    "    sex = 'Male'\n",
    "\n",
    "p1 = Person()\n",
    "print(p1.name, p1.sex)\n",
    "\n",
    "p2 = Person()\n",
    "p2.sex = 'Female'\n",
    "print(p2.name, p2.sex)\n",
    "print(p1.name, p1.sex)"
   ]
  },
  {
   "cell_type": "markdown",
   "metadata": {},
   "source": [
    "### Modify Attributes"
   ]
  },
  {
   "execution_count": 12,
   "metadata": {},
   "outputs": [
    {
     "ename": "NameError",
     "evalue": "name 'person' is not defined",
     "output_type": "error",
     "traceback": [
      "\u001b[1;31m---------------------------------------------------------------------------\u001b[0m",
      "\u001b[1;31mNameError\u001b[0m                                 Traceback (most recent call last)",
      "\u001b[1;32m<ipython-input-12-15a57365bfd2>\u001b[0m in \u001b[0;36m<module>\u001b[1;34m\u001b[0m\n\u001b[1;32m----> 1\u001b[1;33m \u001b[1;32mclass\u001b[0m \u001b[0mPerson\u001b[0m\u001b[1;33m:\u001b[0m\u001b[1;33m\u001b[0m\u001b[1;33m\u001b[0m\u001b[0m\n\u001b[0m\u001b[0;32m      2\u001b[0m     \u001b[0mname\u001b[0m\u001b[1;33m=\u001b[0m\u001b[1;34m'Rashmi'\u001b[0m\u001b[1;33m\u001b[0m\u001b[1;33m\u001b[0m\u001b[0m\n\u001b[0;32m      3\u001b[0m     \u001b[0msex\u001b[0m \u001b[1;33m=\u001b[0m\u001b[1;34m'Female'\u001b[0m\u001b[1;33m\u001b[0m\u001b[1;33m\u001b[0m\u001b[0m\n\u001b[0;32m      4\u001b[0m \u001b[1;33m\u001b[0m\u001b[0m\n\u001b[0;32m      5\u001b[0m     \u001b[0mp1\u001b[0m \u001b[1;33m=\u001b[0m \u001b[0mperson\u001b[0m\u001b[1;33m(\u001b[0m\u001b[1;33m)\u001b[0m\u001b[1;33m\u001b[0m\u001b[1;33m\u001b[0m\u001b[0m\n",
      "\u001b[1;32m<ipython-input-12-15a57365bfd2>\u001b[0m in \u001b[0;36mPerson\u001b[1;34m()\u001b[0m\n\u001b[0;32m      3\u001b[0m     \u001b[0msex\u001b[0m \u001b[1;33m=\u001b[0m\u001b[1;34m'Female'\u001b[0m\u001b[1;33m\u001b[0m\u001b[1;33m\u001b[0m\u001b[0m\n\u001b[0;32m      4\u001b[0m \u001b[1;33m\u001b[0m\u001b[0m\n\u001b[1;32m----> 5\u001b[1;33m     \u001b[0mp1\u001b[0m \u001b[1;33m=\u001b[0m \u001b[0mperson\u001b[0m\u001b[1;33m(\u001b[0m\u001b[1;33m)\u001b[0m\u001b[1;33m\u001b[0m\u001b[1;33m\u001b[0m\u001b[0m\n\u001b[0m\u001b[0;32m      6\u001b[0m \u001b[1;33m\u001b[0m\u001b[0m\n\u001b[0;32m      7\u001b[0m     \u001b[0mprint\u001b[0m\u001b[1;33m(\u001b[0m\u001b[0mp1\u001b[0m\u001b[1;33m.\u001b[0m\u001b[0mname\u001b[0m\u001b[1;33m,\u001b[0m \u001b[0mp1\u001b[0m\u001b[1;33m.\u001b[0m\u001b[0msex\u001b[0m\u001b[1;33m)\u001b[0m\u001b[1;33m;\u001b[0m\u001b[1;33m\u001b[0m\u001b[1;33m\u001b[0m\u001b[0m\n",
      "\u001b[1;31mNameError\u001b[0m: name 'person' is not defined"
     ]
    }
   ],
   "source": [
    "class Person:\n",
    "    name='Rashmi'\n",
    "    sex ='Female'\n",
    "    \n",
    "    p1 = person()\n",
    "    \n",
    "    print(p1.name, p1.sex);"
   ]
  },
  {
   "cell_type": "code",
   "cell_type": "markdown",
   "metadata": {},
   "source": [
    "## Inheritance\n",
    "* One class takes attributes and methods of another.\n",
    "* Child class derived from Parent class\n",
    "* Child class override or extend attirbutes and methods of parent's class."
   ]
  },
  {
   "cell_type": "code",
   "execution_count": 9,
   "metadata": {},
   "outputs": [
    {
     "ename": "IndentationError",
     "evalue": "unindent does not match any outer indentation level (<tokenize>, line 9)",
     "output_type": "error",
     "traceback": [
      "\u001b[1;36m  File \u001b[1;32m\"<tokenize>\"\u001b[1;36m, line \u001b[1;32m9\u001b[0m\n\u001b[1;33m    print(calculate().pow(2,3));\u001b[0m\n\u001b[1;37m    ^\u001b[0m\n\u001b[1;31mIndentationError\u001b[0m\u001b[1;31m:\u001b[0m unindent does not match any outer indentation level\n"
     ]
    }
   ],
   "source": [
    "#Implement pow(x,n)using class\n",
    "\n",
    "class calculate:\n",
    "    \n",
    "     def pow(self, x, n):\n",
    "        if x==0 or x==1 or n==1:\n",
    "            return x ;\n",
    "        \n",
    "    print(calculate().pow(2,3));\n",
    "        \n",
    "    "
   ]
  },
  {
   "cell_type": "code",
   "execution_count": 15,
   "metadata": {},
   "outputs": [
    {
     "name": "stdout",
     "output_type": "stream",
     "text": [
      "0.125\n",
      "243\n",
      "1\n"
     ]
    }
   ],
   "source": [
    "class calculate:\n",
    "   def pow(self, x, n):\n",
    "        if x==0 or x==1 or n==1:\n",
    "            return x \n",
    "\n",
    "        if x==-1:\n",
    "            if n%2 ==0:\n",
    "                return 1\n",
    "            else:\n",
    "                return -1\n",
    "        if n==0:\n",
    "            return 1\n",
    "        if n<0:\n",
    "            return 1/self.pow(x,-n)\n",
    "        val = self.pow(x,n//2)\n",
    "        if n%2 ==0:\n",
    "            return val*val\n",
    "        return val*val*x\n",
    "\n",
    "print(calculate().pow(2, -3));\n",
    "print(calculate().pow(3, 5));\n",
    "print(calculate().pow(100, 0));"
   ]
  },
  {
   "cell_type": "markdown",
   "metadata": {},
   "source": [
    "### Syntax:\n",
    "```python\n",
    "class DerivedClassName(BaseClassName):\n",
    "    <statement-1>\n",
    "    .\n",
    "    .\n",
    "    .\n",
    "    <statement-N>\n",
    "```"
   ]
  },
  {
   "cell_type": "code",
   "execution_count": 10,
   "metadata": {},
   "outputs": [
    {
     "ename": "IndentationError",
     "evalue": "expected an indented block (<ipython-input-10-b651179e7929>, line 6)",
     "output_type": "error",
     "traceback": [
      "\u001b[1;36m  File \u001b[1;32m\"<ipython-input-10-b651179e7929>\"\u001b[1;36m, line \u001b[1;32m6\u001b[0m\n\u001b[1;33m    self.area = area\u001b[0m\n\u001b[1;37m    ^\u001b[0m\n\u001b[1;31mIndentationError\u001b[0m\u001b[1;31m:\u001b[0m expected an indented block\n"
     ]
    }
   ],
   "source": [
    "#create a circle class and initialize it with radius.Make two methods get_area and get_circumference inside the class.\n",
    "\n",
    "class circle:\n",
    "    \n",
    "        def __init__(self, area, circumference):\n",
    "        self.area = area\n",
    "        self.circumference = circumference\n",
    "        \n",
    "        get_area()\n",
    "        get_circumference()"
   ]
  },
  {
   "cell_type": "code",
   "execution_count": 20,
   "metadata": {},
   "outputs": [
    {
     "ename": "IndentationError",
     "evalue": "unindent does not match any outer indentation level (<tokenize>, line 10)",
     "output_type": "error",
     "traceback": [
      "\u001b[1;36m  File \u001b[1;32m\"<tokenize>\"\u001b[1;36m, line \u001b[1;32m10\u001b[0m\n\u001b[1;33m    def get_area(length, breadth):\u001b[0m\n\u001b[1;37m    ^\u001b[0m\n\u001b[1;31mIndentationError\u001b[0m\u001b[1;31m:\u001b[0m unindent does not match any outer indentation level\n"
     ]
    }
   ],
   "source": [
    "#Create class named shape which has attributes length and breadth and a method area, which returns the area of the shape\n",
    "[Assuming area to be length * breadth]\n",
    "\n",
    "\n",
    "class Shape:\n",
    "        def __init__(self, length, breadth):\n",
    "        self.length = length\n",
    "        self.breadth = breadth\n",
    "      \n",
    "    def get_area(length, breadth):\n",
    "        return(length*breadth);\n",
    "    \n",
    "    get_area(length*breadth);\n",
    "    "
   ]
  },
  {
   "cell_type": "markdown",
   "metadata": {},
   "source": []
  },
  {
   "cell_type": "code",
   "execution_count": 26,
   "metadata": {},
   "outputs": [
    {
     "name": "stdout",
     "output_type": "stream",
     "text": [
      "Exception  OCcurred\n",
      "Mammal eats.\n"
     ]
    },
    {
     "data": {
      "text/plain": [
       "['__class__',\n",
       " '__delattr__',\n",
       " '__dict__',\n",
       " '__dir__',\n",
       " '__doc__',\n",
       " '__eq__',\n",
       " '__format__',\n",
       " '__ge__',\n",
       " '__getattribute__',\n",
       " '__gt__',\n",
       " '__hash__',\n",
       " '__init__',\n",
       " '__init_subclass__',\n",
       " '__le__',\n",
       " '__lt__',\n",
       " '__module__',\n",
       " '__ne__',\n",
       " '__new__',\n",
       " '__reduce__',\n",
       " '__reduce_ex__',\n",
       " '__repr__',\n",
       " '__setattr__',\n",
       " '__sizeof__',\n",
       " '__str__',\n",
       " '__subclasshook__',\n",
       " '__weakref__',\n",
       " 'eats',\n",
       " 'speak']"
      ]
     },
     "execution_count": 26,
     "metadata": {},
     "output_type": "execute_result"
    }
   ],
   "source": [
    "class Mammal:\n",
    "        def __init__(self, name, breed):\n",
    "            self.name = name\n",
    "            self.breed = breed\n",
    "        \n",
    "        def eats(self):\n",
    "            print(\"Mammal eats.\")\n",
    "            \n",
    "class Dog(Mammal):\n",
    "#     def __init__(self,name):\n",
    "#         super().__init__(name,None)\n",
    "    def speak(self):\n",
    "        print(\"Nooooo.\")  \n",
    "        \n",
    "class Pug(Dog):\n",
    "    def bark(abc):\n",
    "        print(\"Barks soft\")\n",
    "        \n",
    "        \n",
    "    def eats(self):\n",
    "        print(\"Pug eats.\")\n",
    "       \n",
    "    \n",
    "c1 = Dog('Snoopy',None)\n",
    "\n",
    "try:\n",
    "    c1.bark()\n",
    "except AttributeError:\n",
    "    print(\"Exception  OCcurred\")\n",
    "    \n",
    "c1.eats()\n",
    "dir(Dog)\n",
    "\n",
    "\n",
    "\n",
    "        "
   ]
  },
  {
   "cell_type": "code",
   "execution_count": 58,
   "metadata": {},
   "outputs": [
    {
     "name": "stdout",
     "output_type": "stream",
     "text": [
      "humans eat momo.\n"
     ]
    }
   ],
   "source": [
    "class Human:\n",
    "    def __init__(shr, name, skincolor):\n",
    "        shr.name = name\n",
    "        shr.skincolor = skincolor\n",
    "        \n",
    "    def eats(shr):\n",
    "        print(\"humans eat momo.\")\n",
    "    \n",
    "class Chinese(Human):\n",
    "    def __init__(self,name):\n",
    "        super().__init__(name,'white')\n",
    "#     def speak_chinese(self):\n",
    "#         print(\"ni how\")\n",
    "    pass\n",
    "\n",
    "\n",
    "c1 = Chinese(name = 'jackie')\n",
    "c1.name\n",
    "c1.eats()\n",
    "# c1.skincolor\n",
    "# Chinese.__mro__\n"
   ]
  },
  {
   "cell_type": "code",
   "execution_count": 52,
   "metadata": {},
   "outputs": [
    {
     "data": {
      "text/plain": [
       "(AttributeError, Exception, BaseException, object)"
      ]
     },
     "execution_count": 52,
     "metadata": {},
     "output_type": "execute_result"
    }
   ],
   "source": [
    "dir(AttributeError)\n",
    "AttributeError.__mro__\n",
    "# with_traceback(AttributeError)"
   ]
  },
  {
   "cell_type": "code",
   "execution_count": null,
   "metadata": {},
   "outputs": [],
   "source": [
    "try:\n",
    "    raise NameError('How you doin?')\n",
    "except NameError:\n",
    "    print('Goodbye, world!')"
   ]
  },
  {
   "cell_type": "code",
   "execution_count": 59,
   "metadata": {},
   "outputs": [
    {
     "name": "stdout",
     "output_type": "stream",
     "text": [
      "Please enter a number: rash\n",
      "Oops!  That was no valid number.  Try again...\n",
      "Please enter a number: 3\n"
     ]
    }
   ],
   "source": [
    "while True:\n",
    "    try:\n",
    "        x = int(input(\"Please enter a number: \"))\n",
    "        break\n",
    "    except ValueError:\n",
    "        print(\"Oops!  That was no valid number.  Try again...\")"
   ]
  },
  {
   "cell_type": "markdown",
   "metadata": {},
   "source": [
    "### Override"
   ]
  },
  {
   "cell_type": "markdown",
   "metadata": {},
   "source": [
    "#### Syntax:\n",
    "```python\n",
    "class DerivedClassName(Base1, Base2, Base3):\n",
    "    <statement-1>\n",
    "    .\n",
    "    .\n",
    "    .\n",
    "    <statement-N>\n",
    "```"
   ]
  },
  {
   "cell_type": "markdown",
   "metadata": {},
   "source": [
    "* If attribute not found in `DerivedClassName`, it is searched in `Base1`\n",
    "* If not found there, it is searched in `Base2`, and the search goes on."
   ]
  },
  {
   "cell_type": "markdown",
   "metadata": {},
   "source": [
    "#### Override\n",
    "\n",
    "* Child classes can override attributes and methods of parent clasess. \n",
    "* See example below:"
   ]
  },
  {
   "cell_type": "code",
   "execution_count": 13,
   "metadata": {},
   "outputs": [],
   "source": [
    "class Car:\n",
    "    \n",
    "    # Class attributes\n",
    "    type = 'vehicle'\n",
    "    \n",
    "    # Instance Attributes / Initialize\n",
    "    def __init__(self, name, manufacturer, year):\n",
    "        self.name = name\n",
    "        self.manufacturer = manufacturer\n",
    "        self.year = year\n",
    "    \n",
    "    # instance method\n",
    "    def accelerate(self, speed):\n",
    "        return \"Car %s is acclerating at %d\" % (self.name, speed)\n",
    "\n",
    "# Child class of Car\n",
    "class SuperCar(Car):\n",
    "    type = 'Luxury vehicle'\n",
    "    def zoom(self):\n",
    "        return \"Car %s zoomed\" % (self.name)"
   ]
  },
  {
   "cell_type": "code",
   "execution_count": 15,
   "metadata": {},
   "outputs": [
    {
     "name": "stdout",
     "output_type": "stream",
     "text": [
      "vehicle\n",
      "Luxury vehicle\n"
     ]
    }
   ],
   "source": [
    "i20 = Car('i20', 'Hyundai', 2020)\n",
    "print(i20.type)\n",
    "\n",
    "lamborghini = SuperCar('Huracan', 'Lamborghini', 2019)\n",
    "print(lamborghini.type)\n"
   ]
  },
  {
   "cell_type": "code",
   "execution_count": 13,
   "metadata": {},
   "outputs": [
    {
     "name": "stdout",
     "output_type": "stream",
     "text": [
      "Car i20 is acclerating at 10\n",
      "Car Huracan is acclerating at 20\n"
     ]
    }
   ],
   "source": [
    "class Car:\n",
    "    \n",
    "    # Class attributes\n",
    "    type = 'vehicle'\n",
    "    \n",
    "    # Instance Attributes / Initialize\n",
    "    def __init__(self, name, manufacturer, year):\n",
    "        self.name = name\n",
    "        self.manufacturer = manufacturer\n",
    "        self.year = year\n",
    "    \n",
    "    # instance method\n",
    "    def accelerate(self, speed):\n",
    "        return \"Car %s is acclerating at %d\" % (self.name, speed)\n",
    "\n",
    "# Child class of Car\n",
    "class SuperCar(Car):\n",
    "    type = 'Luxury vehicle'\n",
    "    \n",
    "    def __init__(self, name, manufacturer, year, hyper=True):\n",
    "        super().__init__(name, manufacturer, year)\n",
    "        self.hyper = hyper\n",
    "    \n",
    "    def accelerate(self, speed):\n",
    "        return super().accelerate(speed*2)\n",
    "    \n",
    "    def zoom(self):\n",
    "        return \"Car %s zoomed\" % (self.name)\n",
    "\n",
    "\n",
    "i20 = Car('i20', 'Hyundai', 2020)\n",
    "print(i20.accelerate(10))\n",
    "\n",
    "lamborghini = SuperCar('Huracan', 'Lamborghini', 2019, True)\n",
    "print(lamborghini.accelerate(10))"
   ]
  },
  {
   "cell_type": "markdown",
   "metadata": {},
   "source": [
    "### `super()` in-depth\n",
    "* revisit later"
   ]
  },
  {
   "cell_type": "markdown",
   "metadata": {},
   "source": [
    "### `isinstance()`\n",
    "* determines if an instance is also an instance of a certain parent class."
   ]
  },
  {
   "cell_type": "code",
   "execution_count": 19,
   "metadata": {},
   "outputs": [
    {
     "data": {
      "text/plain": [
       "True"
      ]
     },
     "execution_count": 19,
     "metadata": {},
     "output_type": "execute_result"
    }
   ],
   "source": [
    "isinstance(lamborghini, Car)"
   ]
  },
  {
   "cell_type": "code",
   "execution_count": 20,
   "metadata": {},
   "outputs": [
    {
     "data": {
      "text/plain": [
       "True"
      ]
     },
     "execution_count": 20,
     "metadata": {},
     "output_type": "execute_result"
    }
   ],
   "source": [
    "isinstance(lamborghini, SuperCar)"
   ]
  },
  {
   "cell_type": "code",
   "execution_count": 21,
   "metadata": {},
   "outputs": [
    {
     "data": {
      "text/plain": [
       "True"
      ]
     },
     "execution_count": 21,
     "metadata": {},
     "output_type": "execute_result"
    }
   ],
   "source": [
    "isinstance(1, int)"
   ]
  },
  {
   "cell_type": "code",
   "execution_count": 27,
   "metadata": {},
   "outputs": [
    {
     "data": {
      "text/plain": [
       "True"
      ]
     },
     "execution_count": 27,
     "metadata": {},
     "output_type": "execute_result"
    }
   ],
   "source": [
    "x = 4.2\n",
    "\n",
    "isinstance(x, (int, float))"
   ]
  },
  {
   "cell_type": "markdown",
   "metadata": {},
   "source": [
    "## Private Variables"
   ]
  },
  {
   "cell_type": "code",
   "execution_count": 35,
   "metadata": {},
   "outputs": [],
   "source": [
    "class Car:\n",
    "    \n",
    "    # Instance Attributes / Initialize\n",
    "    def __init__(self, name, manufacturer, year):\n",
    "        self.name = name\n",
    "        self.manufacturer = manufacturer\n",
    "        self.year = year\n",
    "        self.__type = 'vehicle'\n",
    "        self._num_of_wheels = 4\n",
    "    \n",
    "    def get_type(self):\n",
    "        return self.__type\n",
    "    \n",
    "    # instance method\n",
    "    def accelerate(self, speed):\n",
    "        return \"Car %s is acclerating at %d\" % (self.name, speed)"
   ]
  },
  {
   "cell_type": "code",
   "execution_count": 36,
   "metadata": {},
   "outputs": [
    {
     "data": {
      "text/plain": [
       "'vehicle'"
      ]
     },
     "execution_count": 36,
     "metadata": {},
     "output_type": "execute_result"
    }
   ],
   "source": [
    "i20 = Car('i20', 'Hyundai', 2020)\n",
    "i20.get_type()"
   ]
  },
  {
   "cell_type": "code",
   "execution_count": 37,
   "metadata": {},
   "outputs": [
    {
     "ename": "AttributeError",
     "evalue": "'Car' object has no attribute '__type'",
     "output_type": "error",
     "traceback": [
      "\u001b[1;31m---------------------------------------------------------------------------\u001b[0m",
      "\u001b[1;31mAttributeError\u001b[0m                            Traceback (most recent call last)",
      "\u001b[1;32m<ipython-input-37-e31da153b0a7>\u001b[0m in \u001b[0;36m<module>\u001b[1;34m\u001b[0m\n\u001b[1;32m----> 1\u001b[1;33m \u001b[0mi20\u001b[0m\u001b[1;33m.\u001b[0m\u001b[0m__type\u001b[0m\u001b[1;33m\u001b[0m\u001b[1;33m\u001b[0m\u001b[0m\n\u001b[0m",
      "\u001b[1;31mAttributeError\u001b[0m: 'Car' object has no attribute '__type'"
     ]
    }
   ],
   "source": [
    "i20.__type"
   ]
  },
  {
   "cell_type": "code",
   "execution_count": 39,
   "metadata": {},
   "outputs": [
    {
     "data": {
      "text/plain": [
       "'vehicle'"
      ]
     },
     "execution_count": 39,
     "metadata": {},
     "output_type": "execute_result"
    }
   ],
   "source": [
    "i20._Car__type"
   ]
  },
  {
   "cell_type": "code",
   "execution_count": 38,
   "metadata": {},
   "outputs": [
    {
     "data": {
      "text/plain": [
       "4"
      ]
     },
     "execution_count": 38,
     "metadata": {},
     "output_type": "execute_result"
    }
   ],
   "source": [
    "i20._num_of_wheels"
   ]
  },
  {
   "cell_type": "markdown",
   "metadata": {},
   "source": [
    "## Name Mangling\n",
    "\n",
    "* **Note** : Revisit after automation module."
   ]
  },
  {
   "cell_type": "markdown",
   "metadata": {},
   "source": [
    "## Is Python OOPs?\n",
    "* Revisit Later"
   ]
  },
  {
   "cell_type": "markdown",
   "metadata": {},
   "source": [
    "## Exercise\n",
    "* Implement pow(x, n) using class\n",
    "* Reverse a string word by word: Input: hello world Output: world hello\n",
    "* Reverse a string in word by word. Example: Input: hello world Output: dlrow olleh\n",
    "* A class named `Circle` constructed by a radius and two methods which will compute the area and the perimeter of a circle.\n",
    "* A class which has two methods `get_String` and `print_String`. `get_String` accept a string from the user and `print_String` print the string in upper case\n",
    "* Create a `Cricle` class and intialize it with `radius`. Make two methods `get_area` and `get_circumference` inside this class.\n",
    "* Create `class` named Shape which has attributes length and breath and a method area, which returns the area of the shape [Assuming area to be length * breath]\n",
    "* Create a `class` named `Dog` which has instance attributes `name`, `breed`, `life_expectancy`, `origin_place` and class attribute `species`. Add instance method `bark()`, `eat()`, `description()` methods.  "
   ]
  },
  {
   "cell_type": "code",
   "execution_count": null,
   "metadata": {},
   "outputs": [],
   "source": []
  },
  {
   "cell_type": "code",
   "execution_count": null,
   "metadata": {},
   "outputs": [],
   "source": []
  }
 ],
 "metadata": {
  "kernelspec": {
   "display_name": "Python 3",
   "language": "python",
   "name": "python3"
  },
  "language_info": {
   "codemirror_mode": {
    "name": "ipython",
    "version": 3
   },
   "file_extension": ".py",
   "mimetype": "text/x-python",
   "name": "python",
   "nbconvert_exporter": "python",
   "pygments_lexer": "ipython3",
   "version": "3.8.1"
  }
 },
 "nbformat": 4,
 "nbformat_minor": 2
}
